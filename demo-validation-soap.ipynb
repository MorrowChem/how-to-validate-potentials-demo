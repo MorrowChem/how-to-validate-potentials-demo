{
 "cells": [
  {
   "cell_type": "markdown",
   "metadata": {},
   "source": [
    "# SOAP analysis of Si trajectory\n",
    "\n",
    "This notebook shows how to perform a SOAP analysis of a Si trajectory.\n",
    "\n",
    "The MD simulation involves the compression of 10,000 atoms of low-density amorphous silicon (a-Si) from 0-20 GPa,  \n",
    "similar to that described in [J. Chem. Phys. __157__, 104105 (2022)](https://doi.org/10.1063/5.0099929)\n",
    "\n",
    "We're going to compare the snapshots from the large-scale MD to some known crystal structures of Si   \n",
    "to understand the structural changes that occur during compression."
   ]
  },
  {
   "cell_type": "code",
   "execution_count": 1,
   "metadata": {
    "vscode": {
     "languageId": "python"
    }
   },
   "outputs": [],
   "source": [
    "from ase.io import read, write\n",
    "import os\n",
    "import pandas as pd\n",
    "import numpy as np\n",
    "from share.utilities import read_lammps_log"
   ]
  },
  {
   "cell_type": "code",
   "execution_count": 8,
   "metadata": {
    "vscode": {
     "languageId": "python"
    }
   },
   "outputs": [
    {
     "name": "stdout",
     "output_type": "stream",
     "text": [
      "structures/Si_10katom_simulation.xyz\n"
     ]
    }
   ],
   "source": [
    "!tar -xzvf structures/Si_10katom_simulation.xyz.tar.gz"
   ]
  },
  {
   "cell_type": "code",
   "execution_count": 8,
   "metadata": {
    "vscode": {
     "languageId": "python"
    }
   },
   "outputs": [
    {
     "name": "stdout",
     "output_type": "stream",
     "text": [
      "Atoms(symbols='Si10000', pbc=True, cell=[59.0629, 59.0629, 59.0629], masses=...)\n"
     ]
    }
   ],
   "source": [
    "Si_traj = read('structures/Si_10katom_simulation.xyz', ':')\n",
    "print(Si_traj[0])"
   ]
  },
  {
   "cell_type": "code",
   "execution_count": 2,
   "metadata": {
    "vscode": {
     "languageId": "python"
    }
   },
   "outputs": [
    {
     "data": {
      "text/html": [
       "<div>\n",
       "<style scoped>\n",
       "    .dataframe tbody tr th:only-of-type {\n",
       "        vertical-align: middle;\n",
       "    }\n",
       "\n",
       "    .dataframe tbody tr th {\n",
       "        vertical-align: top;\n",
       "    }\n",
       "\n",
       "    .dataframe thead th {\n",
       "        text-align: right;\n",
       "    }\n",
       "</style>\n",
       "<table border=\"1\" class=\"dataframe\">\n",
       "  <thead>\n",
       "    <tr style=\"text-align: right;\">\n",
       "      <th></th>\n",
       "      <th>Step</th>\n",
       "      <th>CPU</th>\n",
       "      <th>Temp</th>\n",
       "      <th>f_TempAve</th>\n",
       "      <th>Press</th>\n",
       "      <th>f_PressAve</th>\n",
       "      <th>f_PEAve_Atom</th>\n",
       "      <th>Volume</th>\n",
       "      <th>f_vAve</th>\n",
       "      <th>c_MSD[4]</th>\n",
       "    </tr>\n",
       "  </thead>\n",
       "  <tbody>\n",
       "    <tr>\n",
       "      <th>0</th>\n",
       "      <td>0.0</td>\n",
       "      <td>0.000000</td>\n",
       "      <td>500.00000</td>\n",
       "      <td>0.00000</td>\n",
       "      <td>200.47885</td>\n",
       "      <td>0.000000</td>\n",
       "      <td>0.00000</td>\n",
       "      <td>206036.57</td>\n",
       "      <td>0.00</td>\n",
       "      <td>0.000000</td>\n",
       "    </tr>\n",
       "    <tr>\n",
       "      <th>2</th>\n",
       "      <td>1000.0</td>\n",
       "      <td>66.406337</td>\n",
       "      <td>499.06923</td>\n",
       "      <td>496.43517</td>\n",
       "      <td>469.56218</td>\n",
       "      <td>-0.746819</td>\n",
       "      <td>-162.92661</td>\n",
       "      <td>205947.39</td>\n",
       "      <td>206035.67</td>\n",
       "      <td>0.099112</td>\n",
       "    </tr>\n",
       "    <tr>\n",
       "      <th>3</th>\n",
       "      <td>2000.0</td>\n",
       "      <td>132.756830</td>\n",
       "      <td>504.12737</td>\n",
       "      <td>500.23940</td>\n",
       "      <td>367.79051</td>\n",
       "      <td>-41.270840</td>\n",
       "      <td>-162.92650</td>\n",
       "      <td>205852.77</td>\n",
       "      <td>206019.93</td>\n",
       "      <td>0.104916</td>\n",
       "    </tr>\n",
       "    <tr>\n",
       "      <th>4</th>\n",
       "      <td>3000.0</td>\n",
       "      <td>199.107770</td>\n",
       "      <td>498.82079</td>\n",
       "      <td>500.74544</td>\n",
       "      <td>108.73607</td>\n",
       "      <td>-61.930008</td>\n",
       "      <td>-162.92650</td>\n",
       "      <td>206026.93</td>\n",
       "      <td>206014.29</td>\n",
       "      <td>0.102298</td>\n",
       "    </tr>\n",
       "    <tr>\n",
       "      <th>5</th>\n",
       "      <td>4000.0</td>\n",
       "      <td>265.756330</td>\n",
       "      <td>499.03487</td>\n",
       "      <td>499.13229</td>\n",
       "      <td>-185.78896</td>\n",
       "      <td>-85.978728</td>\n",
       "      <td>-162.92618</td>\n",
       "      <td>206067.84</td>\n",
       "      <td>206029.74</td>\n",
       "      <td>0.103973</td>\n",
       "    </tr>\n",
       "  </tbody>\n",
       "</table>\n",
       "</div>"
      ],
      "text/plain": [
       "     Step         CPU       Temp  f_TempAve      Press  f_PressAve  \\\n",
       "0     0.0    0.000000  500.00000    0.00000  200.47885    0.000000   \n",
       "2  1000.0   66.406337  499.06923  496.43517  469.56218   -0.746819   \n",
       "3  2000.0  132.756830  504.12737  500.23940  367.79051  -41.270840   \n",
       "4  3000.0  199.107770  498.82079  500.74544  108.73607  -61.930008   \n",
       "5  4000.0  265.756330  499.03487  499.13229 -185.78896  -85.978728   \n",
       "\n",
       "   f_PEAve_Atom     Volume     f_vAve  c_MSD[4]  \n",
       "0       0.00000  206036.57       0.00  0.000000  \n",
       "2    -162.92661  205947.39  206035.67  0.099112  \n",
       "3    -162.92650  205852.77  206019.93  0.104916  \n",
       "4    -162.92650  206026.93  206014.29  0.102298  \n",
       "5    -162.92618  206067.84  206029.74  0.103973  "
      ]
     },
     "execution_count": 2,
     "metadata": {},
     "output_type": "execute_result"
    }
   ],
   "source": [
    "thermo = read_lammps_log('structures/log_npt_Si_mtp.dat')\n",
    "thermo.head()"
   ]
  },
  {
   "cell_type": "markdown",
   "metadata": {},
   "source": [
    "# Create reference crystal structures"
   ]
  },
  {
   "cell_type": "code",
   "execution_count": 5,
   "metadata": {
    "vscode": {
     "languageId": "python"
    }
   },
   "outputs": [],
   "source": [
    "from ase.lattice.hexagonal import Hexagonal\n",
    "from ase.build import bulk\n",
    "from ase import Atoms"
   ]
  },
  {
   "cell_type": "code",
   "execution_count": 6,
   "metadata": {
    "vscode": {
     "languageId": "python"
    }
   },
   "outputs": [
    {
     "data": {
      "text/plain": [
       "(Atoms(symbols='Si2', pbc=True, cell=[[0.0, 2.715, 2.715], [2.715, 0.0, 2.715], [2.715, 2.715, 0.0]]),\n",
       " Atoms(symbols='Si', pbc=True, cell=[[1.798, 0.0, 0.0], [-0.8989999999999996, 1.5571136760044209, 0.0], [0.0, 0.0, 2.411]]))"
      ]
     },
     "execution_count": 6,
     "metadata": {},
     "output_type": "execute_result"
    }
   ],
   "source": [
    "diamond = bulk('Si', 'diamond', a=5.43)\n",
    "simple_hexagonal = Atoms(Hexagonal(symbol='Si', latticeconstant={'a': 1.798, 'c':2.411}))\n",
    "diamond, simple_hexagonal"
   ]
  },
  {
   "cell_type": "code",
   "execution_count": 173,
   "metadata": {
    "vscode": {
     "languageId": "python"
    }
   },
   "outputs": [],
   "source": [
    "# In case you want to visualise them with Ovito https://www.ovito.org/manual/installation.html\n",
    "write('structures/Si_diamond.xyz', diamond)\n",
    "write('structures/Si_simple_hexagonal.xyz', simple_hexagonal)"
   ]
  },
  {
   "cell_type": "markdown",
   "metadata": {},
   "source": [
    "<font size= \"6\">Reference structures<font size= \"4\">\n",
    "\n",
    "<img src=\"images/dia_crystal.png\" style=\"width:400px;height:400px;\"><img src=\"images/sh_crystal.png\" style=\"width:400px;height:400px;\">   \n",
    "\n",
    "Visualisation using [Ovito](https://www.ovito.org/)"
   ]
  },
  {
   "cell_type": "markdown",
   "metadata": {},
   "source": [
    "# Set up SOAP descriptor"
   ]
  },
  {
   "cell_type": "code",
   "execution_count": null,
   "metadata": {
    "vscode": {
     "languageId": "python"
    }
   },
   "outputs": [],
   "source": [
    "from quippy.descriptors import Descriptor"
   ]
  },
  {
   "cell_type": "code",
   "execution_count": null,
   "metadata": {
    "vscode": {
     "languageId": "python"
    }
   },
   "outputs": [],
   "source": [
    "soap_descriptor_str = ('soap l_max=3 n_max=6 ' # basis function size\n",
    "                       'atom_sigma=0.5 cutoff=5.0 ' # smoothness and cutoff (Angstrom) \n",
    "                       'average=T') # average descriptor over whole cell, or one for each atom\n",
    "soap_cell_average = Descriptor(soap_descriptor_str)\n",
    "soap_atomistic = Descriptor(soap_descriptor_str.replace('average=T', 'average=F'))"
   ]
  },
  {
   "cell_type": "markdown",
   "metadata": {},
   "source": [
    "# Create SOAP vectors for each structure"
   ]
  },
  {
   "cell_type": "code",
   "execution_count": 38,
   "metadata": {
    "vscode": {
     "languageId": "python"
    }
   },
   "outputs": [],
   "source": [
    "# calculate every 5th structure to speed things up (will take up to 5 mins)\n",
    "average_descriptor = soap_cell_average.calc_descriptor(Si_traj[::5])\n",
    "atomistic_descriptor = soap_atomistic.calc_descriptor(Si_traj[::5])"
   ]
  },
  {
   "cell_type": "code",
   "execution_count": 10,
   "metadata": {
    "vscode": {
     "languageId": "python"
    }
   },
   "outputs": [],
   "source": [
    "diamond_descriptor = soap_cell_average.calc_descriptor(diamond)\n",
    "simple_hexagonal_descriptor = soap_cell_average.calc_descriptor(simple_hexagonal)"
   ]
  },
  {
   "cell_type": "code",
   "execution_count": 11,
   "metadata": {
    "vscode": {
     "languageId": "python"
    }
   },
   "outputs": [
    {
     "data": {
      "text/plain": [
       "(1, 145)"
      ]
     },
     "execution_count": 11,
     "metadata": {},
     "output_type": "execute_result"
    }
   ],
   "source": [
    "simple_hexagonal_descriptor.shape  # SOAP vector length"
   ]
  },
  {
   "cell_type": "markdown",
   "metadata": {},
   "source": [
    "# Calculate SOAP kernel matrix"
   ]
  },
  {
   "cell_type": "code",
   "execution_count": 12,
   "metadata": {
    "vscode": {
     "languageId": "python"
    }
   },
   "outputs": [],
   "source": [
    "zeta = 4  # exponent for the kernel\n",
    "\n",
    "# calculate dot products (einsum makes dealing with varying shapes of array easier)\n",
    "k_dia_av = np.einsum('i...j,k...j', average_descriptor, diamond_descriptor).squeeze()**zeta\n",
    "k_dia_atomistic = np.einsum('i...j,k...j', atomistic_descriptor, diamond_descriptor).squeeze()**zeta\n"
   ]
  },
  {
   "cell_type": "code",
   "execution_count": 13,
   "metadata": {
    "vscode": {
     "languageId": "python"
    }
   },
   "outputs": [],
   "source": [
    "k_simple_hexagonal_av = np.einsum('i...j,k...j', average_descriptor, simple_hexagonal_descriptor).squeeze()**zeta\n",
    "k_simple_hexagonal_atomistic = np.einsum('i...j,k...j', atomistic_descriptor, simple_hexagonal_descriptor).squeeze()**zeta"
   ]
  },
  {
   "cell_type": "code",
   "execution_count": 14,
   "metadata": {
    "vscode": {
     "languageId": "python"
    }
   },
   "outputs": [],
   "source": [
    "k_dia_av = k_dia_av.squeeze()\n",
    "k_simple_hexagonal_av = k_simple_hexagonal_av.squeeze()"
   ]
  },
  {
   "cell_type": "code",
   "execution_count": 15,
   "metadata": {
    "vscode": {
     "languageId": "python"
    }
   },
   "outputs": [
    {
     "data": {
      "text/plain": [
       "(51,)"
      ]
     },
     "execution_count": 15,
     "metadata": {},
     "output_type": "execute_result"
    }
   ],
   "source": [
    "k_dia_av.squeeze().shape # one similarity value for each structure in the trajectory"
   ]
  },
  {
   "cell_type": "markdown",
   "metadata": {},
   "source": [
    "# Pressure vs. similarity"
   ]
  },
  {
   "cell_type": "code",
   "execution_count": 16,
   "metadata": {
    "vscode": {
     "languageId": "python"
    }
   },
   "outputs": [],
   "source": [
    "import matplotlib.pyplot as plt\n",
    "plt.style.use('./share/plot.mplstyle')"
   ]
  },
  {
   "cell_type": "code",
   "execution_count": 17,
   "metadata": {
    "vscode": {
     "languageId": "python"
    }
   },
   "outputs": [
    {
     "data": {
      "text/plain": [
       "<matplotlib.legend.Legend at 0x7f98e80cac70>"
      ]
     },
     "execution_count": 17,
     "metadata": {},
     "output_type": "execute_result"
    },
    {
     "data": {
      "image/png": "[encoded data removed]",
      "text/plain": [
       "<Figure size 640x480 with 1 Axes>"
      ]
     },
     "metadata": {},
     "output_type": "display_data"
    }
   ],
   "source": [
    "fig, axs = plt.subplots()\n",
    "\n",
    "\n",
    "pressure_Gpa = thermo['f_PressAve'][::5]/1e4\n",
    "axs.plot(pressure_Gpa, k_dia_av, label='diamond', c='purple')\n",
    "axs.plot(pressure_Gpa, k_simple_hexagonal_av, label='simple hexagonal', c='gold')\n",
    "\n",
    "axs.set(xlabel='Pressure (GPa)', ylabel='SOAP Similarity')\n",
    "axs.legend(loc='upper left', bbox_to_anchor=(1, 1.05), frameon=False)"
   ]
  },
  {
   "cell_type": "markdown",
   "metadata": {},
   "source": [
    "# Label each atom with similarity\n",
    "to reference structures for visualisation in Ovito"
   ]
  },
  {
   "cell_type": "code",
   "execution_count": 18,
   "metadata": {
    "vscode": {
     "languageId": "python"
    }
   },
   "outputs": [
    {
     "data": {
      "text/plain": [
       "(10000, 51)"
      ]
     },
     "execution_count": 18,
     "metadata": {},
     "output_type": "execute_result"
    }
   ],
   "source": [
    "k_dia_atomistic.shape"
   ]
  },
  {
   "cell_type": "code",
   "execution_count": 22,
   "metadata": {
    "vscode": {
     "languageId": "python"
    }
   },
   "outputs": [
    {
     "data": {
      "text/plain": [
       "51"
      ]
     },
     "execution_count": 22,
     "metadata": {},
     "output_type": "execute_result"
    }
   ],
   "source": [
    "len(Si_traj[::5])"
   ]
  },
  {
   "cell_type": "code",
   "execution_count": 28,
   "metadata": {
    "vscode": {
     "languageId": "python"
    }
   },
   "outputs": [],
   "source": [
    "for ct, i in enumerate(range(0,len(Si_traj),5)):\n",
    "    Si_traj[i].arrays['k_dia'] = k_dia_atomistic[:, ct]\n",
    "    Si_traj[i].arrays['k_simple_hexagonal'] = k_simple_hexagonal_atomistic[:, ct]"
   ]
  },
  {
   "cell_type": "code",
   "execution_count": 29,
   "metadata": {
    "vscode": {
     "languageId": "python"
    }
   },
   "outputs": [
    {
     "data": {
      "text/plain": [
       "array([0.91818053, 0.71201282, 0.85485859, 0.77155732, 0.94632169,\n",
       "       0.85607522, 0.80206024, 0.96063755, 0.78245453, 0.9570341 ])"
      ]
     },
     "execution_count": 29,
     "metadata": {},
     "output_type": "execute_result"
    }
   ],
   "source": [
    "Si_traj[0].arrays['k_dia'][:10]"
   ]
  },
  {
   "cell_type": "code",
   "execution_count": 30,
   "metadata": {
    "vscode": {
     "languageId": "python"
    }
   },
   "outputs": [],
   "source": [
    "write('structures/Si_traj_SOAPlabelled.xyz', Si_traj[::5]) # write 1/5th of the trajectory to save on memory"
   ]
  },
  {
   "cell_type": "markdown",
   "metadata": {},
   "source": [
    "<img src=\"images/dia.png\" style=\"width:400px;height:400px;\"><img src=\"images/10GPa.png\" style=\"width:400px;height:400px;\"><img src=\"images/sh.png\" style=\"width:400px;height:400px;\">\n",
    "\n",
    "\n",
    "Visualisation using [Ovito](https://www.ovito.org/)"
   ]
  },
  {
   "cell_type": "markdown",
   "metadata": {},
   "source": [
    "# Plot simple 2D sketch map\n",
    "\n",
    "in the style of [Phys. Chem. Chem. Phys., 2016, __18__, 13754-13769](https://doi.org/10.1039/C6CP00415F)"
   ]
  },
  {
   "cell_type": "code",
   "execution_count": 31,
   "metadata": {
    "vscode": {
     "languageId": "python"
    }
   },
   "outputs": [],
   "source": [
    "from sklearn.decomposition import KernelPCA\n",
    "import matplotlib as mpl"
   ]
  },
  {
   "cell_type": "code",
   "execution_count": 32,
   "metadata": {
    "vscode": {
     "languageId": "python"
    }
   },
   "outputs": [],
   "source": [
    "k_self_av = np.einsum('i...j,k...j', average_descriptor, average_descriptor).squeeze()**zeta\n",
    "distance_matrix = np.sqrt(np.clip(2 - 2*k_self_av, a_min=0, a_max=None))"
   ]
  },
  {
   "cell_type": "code",
   "execution_count": 33,
   "metadata": {
    "vscode": {
     "languageId": "python"
    }
   },
   "outputs": [],
   "source": [
    "kpca = KernelPCA(n_components=2)\n",
    "kpca.fit(distance_matrix)\n",
    "x, y = kpca.fit_transform(distance_matrix).T"
   ]
  },
  {
   "cell_type": "code",
   "execution_count": 36,
   "metadata": {
    "vscode": {
     "languageId": "python"
    }
   },
   "outputs": [
    {
     "data": {
      "text/plain": [
       "<matplotlib.colorbar.Colorbar at 0x7f98baedb3d0>"
      ]
     },
     "execution_count": 36,
     "metadata": {},
     "output_type": "execute_result"
    },
    {
     "data": {
      "image/png": "[encoded data removed]",
      "text/plain": [
       "<Figure size 640x480 with 2 Axes>"
      ]
     },
     "metadata": {},
     "output_type": "display_data"
    }
   ],
   "source": [
    "fig, axs = plt.subplots(1,2, gridspec_kw={'width_ratios': [1, 0.05]})\n",
    "\n",
    "cmap = mpl.cm.get_cmap('viridis')\n",
    "norm = mpl.colors.Normalize(vmin=pressure_Gpa.min(), vmax=pressure_Gpa.max())\n",
    "sm = mpl.cm.ScalarMappable(norm=norm, cmap=cmap)\n",
    "\n",
    "axs[0].scatter(x, y, c=pressure_Gpa, cmap=cmap, s=10, marker='o')\n",
    "axs[0].axis('off')\n",
    "\n",
    "fig.colorbar(sm, label='Pressure (GPa)', cax=axs[1])"
   ]
  },
  {
   "cell_type": "markdown",
   "metadata": {},
   "source": [
    "# Exercises\n",
    "\n",
    "* Use the methods above to explore the dependence of the pressure vs. similarity plot  \n",
    "on the lattice constant(s) of the diamond and simple hexagonal structures.\n",
    "\n",
    "* What is the effect of varying the SOAP hyperparameters:  \n",
    "the `cutoff` and the smoothness (`atom_sigma`)?\n",
    "\n",
    "* Perform a similar analysis for the carbon trajectory from the previous notebook"
   ]
  }
 ],
 "metadata": {
  "kernelspec": {
   "display_name": "Python 3 (ipykernel)",
   "language": "python",
   "name": "python3"
  },
  "orig_nbformat": 4
 },
 "nbformat": 4,
 "nbformat_minor": 2
}
