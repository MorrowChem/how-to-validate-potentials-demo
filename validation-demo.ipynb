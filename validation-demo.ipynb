{
 "cells": [
  {
   "cell_type": "markdown",
   "metadata": {},
   "source": [
    "# How to validate machine learned potentials\n",
    "\n",
    "Joe D. Morrow \n",
    "\n",
    "## Introduction\n",
    "\n",
    "## Contents\n",
    "\n",
    "## License warning"
   ]
  },
  {
   "cell_type": "code",
   "execution_count": null,
   "metadata": {},
   "outputs": [],
   "source": [
    "%%capture\n",
    "# compile lammps\n",
    "!wget \"https://github.com/lammps/lammps/archive/stable.zip\"\n",
    "!unzip -q stable.zip\n",
    "!rm stable.zip\n",
    "!mv lammps-stable lammps\n",
    "!pip install mkl mkl-include\n",
    "!cd lammps && mkdir -p build && cd build && cmake ../cmake \\\n",
    "    -D DOWNLOAD_QUIP=yes -D USE_INTERNAL_LINALG=yes && make -j4"
   ]
  }
 ],
 "metadata": {
  "kernelspec": {
   "display_name": "Julia 1.7.2",
   "language": "julia",
   "name": "julia-1.7"
  },
  "language_info": {
   "file_extension": ".jl",
   "mimetype": "application/julia",
   "name": "julia",
   "version": "1.7.2"
  },
  "orig_nbformat": 4
 },
 "nbformat": 4,
 "nbformat_minor": 2
}
