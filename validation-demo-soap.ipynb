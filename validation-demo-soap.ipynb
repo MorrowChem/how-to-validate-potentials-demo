{
 "cells": [
  {
   "cell_type": "markdown",
   "metadata": {},
   "source": [
    "# SOAP analysis of Si trajectory"
   ]
  },
  {
   "cell_type": "code",
   "execution_count": 51,
   "metadata": {},
   "outputs": [],
   "source": [
    "from ase.io import read, write\n",
    "import os\n",
    "import pandas as pd\n",
    "import numpy as np"
   ]
  },
  {
   "cell_type": "code",
   "execution_count": 2,
   "metadata": {},
   "outputs": [],
   "source": [
    "from os.path import join"
   ]
  },
  {
   "cell_type": "code",
   "execution_count": 7,
   "metadata": {},
   "outputs": [],
   "source": [
    "Si_structures = read('structures/Si_10katom_simulation.xyz', ':')\n",
    "print(Si_structures[0])"
   ]
  },
  {
   "cell_type": "code",
   "execution_count": 45,
   "metadata": {},
   "outputs": [],
   "source": [
    "def read_lammps_log(file):\n",
    "    '''Reads LAMMPS log thermo data into a pandas DataFrame\n",
    "    Params: filename\n",
    "    Returns: pandas DataFrame'''\n",
    "\n",
    "    with open(file, 'r') as f:\n",
    "        out = f.readlines()\n",
    "    flag = False\n",
    "    first_time = True\n",
    "    for i, val in enumerate(out):\n",
    "        test = val.split()\n",
    "        test.append('')\n",
    "        if test[0] == 'Step':\n",
    "            if first_time:\n",
    "                dat = [[] for j in range(len(out[i+1].split()))]\n",
    "                dat_head = val.split()\n",
    "                first_time = False\n",
    "            flag = True\n",
    "            continue\n",
    "\n",
    "        if flag:\n",
    "            try:\n",
    "                for j, num in enumerate(val.split()):\n",
    "                    dat[j].append(float(num))\n",
    "            except:\n",
    "                flag = 0\n",
    "    dat = np.array(dat) # turn into a DataFrame with header\n",
    "    df = pd.DataFrame(dat[:].T, columns=dat_head[:])\n",
    "    df.drop_duplicates(subset=df.columns[-1], inplace=True)\n",
    "    \n",
    "    return df"
   ]
  },
  {
   "cell_type": "code",
   "execution_count": 49,
   "metadata": {},
   "outputs": [
    {
     "data": {
      "text/html": [
       "<div>\n",
       "<style scoped>\n",
       "    .dataframe tbody tr th:only-of-type {\n",
       "        vertical-align: middle;\n",
       "    }\n",
       "\n",
       "    .dataframe tbody tr th {\n",
       "        vertical-align: top;\n",
       "    }\n",
       "\n",
       "    .dataframe thead th {\n",
       "        text-align: right;\n",
       "    }\n",
       "</style>\n",
       "<table border=\"1\" class=\"dataframe\">\n",
       "  <thead>\n",
       "    <tr style=\"text-align: right;\">\n",
       "      <th></th>\n",
       "      <th>Step</th>\n",
       "      <th>CPU</th>\n",
       "      <th>Temp</th>\n",
       "      <th>f_TempAve</th>\n",
       "      <th>Press</th>\n",
       "      <th>f_PressAve</th>\n",
       "      <th>f_PEAve_Atom</th>\n",
       "      <th>Volume</th>\n",
       "      <th>f_vAve</th>\n",
       "      <th>c_MSD[4]</th>\n",
       "    </tr>\n",
       "  </thead>\n",
       "  <tbody>\n",
       "    <tr>\n",
       "      <th>0</th>\n",
       "      <td>0.0</td>\n",
       "      <td>0.000000</td>\n",
       "      <td>500.00000</td>\n",
       "      <td>0.00000</td>\n",
       "      <td>200.47885</td>\n",
       "      <td>0.000000</td>\n",
       "      <td>0.00000</td>\n",
       "      <td>206036.57</td>\n",
       "      <td>0.00</td>\n",
       "      <td>0.000000</td>\n",
       "    </tr>\n",
       "    <tr>\n",
       "      <th>2</th>\n",
       "      <td>1000.0</td>\n",
       "      <td>66.406337</td>\n",
       "      <td>499.06923</td>\n",
       "      <td>496.43517</td>\n",
       "      <td>469.56218</td>\n",
       "      <td>-0.746819</td>\n",
       "      <td>-162.92661</td>\n",
       "      <td>205947.39</td>\n",
       "      <td>206035.67</td>\n",
       "      <td>0.099112</td>\n",
       "    </tr>\n",
       "    <tr>\n",
       "      <th>3</th>\n",
       "      <td>2000.0</td>\n",
       "      <td>132.756830</td>\n",
       "      <td>504.12737</td>\n",
       "      <td>500.23940</td>\n",
       "      <td>367.79051</td>\n",
       "      <td>-41.270840</td>\n",
       "      <td>-162.92650</td>\n",
       "      <td>205852.77</td>\n",
       "      <td>206019.93</td>\n",
       "      <td>0.104916</td>\n",
       "    </tr>\n",
       "    <tr>\n",
       "      <th>4</th>\n",
       "      <td>3000.0</td>\n",
       "      <td>199.107770</td>\n",
       "      <td>498.82079</td>\n",
       "      <td>500.74544</td>\n",
       "      <td>108.73607</td>\n",
       "      <td>-61.930008</td>\n",
       "      <td>-162.92650</td>\n",
       "      <td>206026.93</td>\n",
       "      <td>206014.29</td>\n",
       "      <td>0.102298</td>\n",
       "    </tr>\n",
       "    <tr>\n",
       "      <th>5</th>\n",
       "      <td>4000.0</td>\n",
       "      <td>265.756330</td>\n",
       "      <td>499.03487</td>\n",
       "      <td>499.13229</td>\n",
       "      <td>-185.78896</td>\n",
       "      <td>-85.978728</td>\n",
       "      <td>-162.92618</td>\n",
       "      <td>206067.84</td>\n",
       "      <td>206029.74</td>\n",
       "      <td>0.103973</td>\n",
       "    </tr>\n",
       "  </tbody>\n",
       "</table>\n",
       "</div>"
      ],
      "text/plain": [
       "     Step         CPU       Temp  f_TempAve      Press  f_PressAve  \\\n",
       "0     0.0    0.000000  500.00000    0.00000  200.47885    0.000000   \n",
       "2  1000.0   66.406337  499.06923  496.43517  469.56218   -0.746819   \n",
       "3  2000.0  132.756830  504.12737  500.23940  367.79051  -41.270840   \n",
       "4  3000.0  199.107770  498.82079  500.74544  108.73607  -61.930008   \n",
       "5  4000.0  265.756330  499.03487  499.13229 -185.78896  -85.978728   \n",
       "\n",
       "   f_PEAve_Atom     Volume     f_vAve  c_MSD[4]  \n",
       "0       0.00000  206036.57       0.00  0.000000  \n",
       "2    -162.92661  205947.39  206035.67  0.099112  \n",
       "3    -162.92650  205852.77  206019.93  0.104916  \n",
       "4    -162.92650  206026.93  206014.29  0.102298  \n",
       "5    -162.92618  206067.84  206029.74  0.103973  "
      ]
     },
     "execution_count": 49,
     "metadata": {},
     "output_type": "execute_result"
    }
   ],
   "source": [
    "thermo = read_lammps_log('structures/log_npt_Si_mtp.dat')#\n",
    "thermo.head()"
   ]
  },
  {
   "cell_type": "markdown",
   "metadata": {},
   "source": [
    "# Set up SOAP descriptor"
   ]
  },
  {
   "cell_type": "code",
   "execution_count": 68,
   "metadata": {},
   "outputs": [],
   "source": [
    "from quippy.descriptors import Descriptor"
   ]
  },
  {
   "cell_type": "code",
   "execution_count": 69,
   "metadata": {},
   "outputs": [],
   "source": [
    "soap_descriptor_str = 'soap l_max=6 n_max=10 \\\n",
    "                     atom_sigma=0.5 cutoff=5.0 \\\n",
    "                     cutoff_transition_width=1.0 central_weight=1.0'\n",
    "soap = Descriptor(soap_descriptor_str)"
   ]
  },
  {
   "cell_type": "markdown",
   "metadata": {},
   "source": [
    "# Create reference crystal structures"
   ]
  },
  {
   "cell_type": "code",
   "execution_count": 72,
   "metadata": {},
   "outputs": [],
   "source": [
    "from ase.lattice.hexagonal import Hexagonal\n",
    "from ase.build import bulk\n",
    "from ase import Atoms"
   ]
  },
  {
   "cell_type": "code",
   "execution_count": 73,
   "metadata": {},
   "outputs": [
    {
     "data": {
      "text/plain": [
       "(Atoms(symbols='Si2', pbc=True, cell=[[0.0, 2.715, 2.715], [2.715, 0.0, 2.715], [2.715, 2.715, 0.0]]),\n",
       " Atoms(symbols='Si', pbc=True, cell=[[1.798, 0.0, 0.0], [-0.8989999999999996, 1.5571136760044209, 0.0], [0.0, 0.0, 2.411]]))"
      ]
     },
     "execution_count": 73,
     "metadata": {},
     "output_type": "execute_result"
    }
   ],
   "source": [
    "diamond = bulk('Si', 'diamond', a=5.43)\n",
    "simple_hexagonal = Atoms(Hexagonal(symbol='Si', latticeconstant={'a': 1.798, 'c': 2.411}))\n",
    "diamond, simple_hexagonal"
   ]
  },
  {
   "cell_type": "code",
   "execution_count": 67,
   "metadata": {},
   "outputs": [
    {
     "data": {
      "text/plain": [
       "Lattice(symbols='Si', pbc=True, cell=[[1.798, 0.0, 0.0], [-0.8989999999999996, 1.5571136760044209, 0.0], [0.0, 0.0, 2.411]])"
      ]
     },
     "execution_count": 67,
     "metadata": {},
     "output_type": "execute_result"
    }
   ],
   "source": []
  },
  {
   "cell_type": "code",
   "execution_count": 59,
   "metadata": {},
   "outputs": [],
   "source": [
    "import dill as pickle\n",
    "fit_folder = '/home/magnetite/vld/hert5155/data/Si/structures' # global folder in which the below files reside\n",
    "# fits of the lattice (3x3 array as a function of P allowed values of P are -5 to 25 GPa)\n",
    "with open(join(fit_folder, 'xtals_for_SOAP_fits_abc_dft_newset_poly.pickle'), 'rb') as f:\n",
    "    fits_abc = pickle.load(f)"
   ]
  },
  {
   "cell_type": "code",
   "execution_count": 64,
   "metadata": {},
   "outputs": [
    {
     "data": {
      "text/plain": [
       "array([[ 1.27162   ,  1.27162   ,  0.        ],\n",
       "       [-2.20253468,  2.20253468,  0.        ],\n",
       "       [ 0.        ,  0.        ,  2.41137856]])"
      ]
     },
     "execution_count": 64,
     "metadata": {},
     "output_type": "execute_result"
    }
   ],
   "source": [
    "fits_abc[5](0.1)"
   ]
  },
  {
   "cell_type": "code",
   "execution_count": 65,
   "metadata": {},
   "outputs": [
    {
     "data": {
      "text/plain": [
       "1.7983422501848751"
      ]
     },
     "execution_count": 65,
     "metadata": {},
     "output_type": "execute_result"
    }
   ],
   "source": [
    "np.sqrt(1.27162**2 * 2)"
   ]
  },
  {
   "cell_type": "code",
   "execution_count": null,
   "metadata": {},
   "outputs": [],
   "source": []
  }
 ],
 "metadata": {
  "kernelspec": {
   "display_name": "Python 3 (ipykernel)",
   "language": "python",
   "name": "python3"
  },
  "language_info": {
   "codemirror_mode": {
    "name": "ipython",
    "version": 3
   },
   "file_extension": ".py",
   "mimetype": "text/x-python",
   "name": "python",
   "nbconvert_exporter": "python",
   "pygments_lexer": "ipython3",
   "version": "3.8.15"
  },
  "orig_nbformat": 4
 },
 "nbformat": 4,
 "nbformat_minor": 2
}
