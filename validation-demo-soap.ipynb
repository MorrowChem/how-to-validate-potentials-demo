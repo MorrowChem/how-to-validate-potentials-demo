{
 "cells": [
  {
   "cell_type": "markdown",
   "metadata": {},
   "source": [
    "# SOAP analysis of Si trajectory"
   ]
  },
  {
   "cell_type": "code",
   "execution_count": 51,
   "metadata": {},
   "outputs": [],
   "source": [
    "from ase.io import read, write\n",
    "import os\n",
    "import pandas as pd\n",
    "import numpy as np\n",
    "from quippy.descriptors import Descriptor\n",
    "from ase.build import bulk"
   ]
  },
  {
   "cell_type": "code",
   "execution_count": 2,
   "metadata": {},
   "outputs": [],
   "source": [
    "from os.path import join"
   ]
  },
  {
   "cell_type": "code",
   "execution_count": 7,
   "metadata": {},
   "outputs": [],
   "source": [
    "Si_structures = read('structures/Si_10katom_simulation.xyz', ':')\n",
    "print(Si_structures[0])"
   ]
  },
  {
   "cell_type": "code",
   "execution_count": 45,
   "metadata": {},
   "outputs": [],
   "source": [
    "def read_lammps_log(file):\n",
    "    '''Reads LAMMPS log thermo data into a pandas DataFrame\n",
    "    Params: filename\n",
    "    Returns: pandas DataFrame'''\n",
    "\n",
    "    with open(file, 'r') as f:\n",
    "        out = f.readlines()\n",
    "    flag = False\n",
    "    first_time = True\n",
    "    for i, val in enumerate(out):\n",
    "        test = val.split()\n",
    "        test.append('')\n",
    "        if test[0] == 'Step':\n",
    "            if first_time:\n",
    "                dat = [[] for j in range(len(out[i+1].split()))]\n",
    "                dat_head = val.split()\n",
    "                first_time = False\n",
    "            flag = True\n",
    "            continue\n",
    "\n",
    "        if flag:\n",
    "            try:\n",
    "                for j, num in enumerate(val.split()):\n",
    "                    dat[j].append(float(num))\n",
    "            except:\n",
    "                flag = 0\n",
    "    dat = np.array(dat) # turn into a DataFrame with header\n",
    "    df = pd.DataFrame(dat[:].T, columns=dat_head[:])\n",
    "    df.drop_duplicates(subset=df.columns[-1], inplace=True)\n",
    "    \n",
    "    return df"
   ]
  },
  {
   "cell_type": "code",
   "execution_count": 49,
   "metadata": {},
   "outputs": [
    {
     "data": {
      "text/html": [
       "<div>\n",
       "<style scoped>\n",
       "    .dataframe tbody tr th:only-of-type {\n",
       "        vertical-align: middle;\n",
       "    }\n",
       "\n",
       "    .dataframe tbody tr th {\n",
       "        vertical-align: top;\n",
       "    }\n",
       "\n",
       "    .dataframe thead th {\n",
       "        text-align: right;\n",
       "    }\n",
       "</style>\n",
       "<table border=\"1\" class=\"dataframe\">\n",
       "  <thead>\n",
       "    <tr style=\"text-align: right;\">\n",
       "      <th></th>\n",
       "      <th>Step</th>\n",
       "      <th>CPU</th>\n",
       "      <th>Temp</th>\n",
       "      <th>f_TempAve</th>\n",
       "      <th>Press</th>\n",
       "      <th>f_PressAve</th>\n",
       "      <th>f_PEAve_Atom</th>\n",
       "      <th>Volume</th>\n",
       "      <th>f_vAve</th>\n",
       "      <th>c_MSD[4]</th>\n",
       "    </tr>\n",
       "  </thead>\n",
       "  <tbody>\n",
       "    <tr>\n",
       "      <th>0</th>\n",
       "      <td>0.0</td>\n",
       "      <td>0.000000</td>\n",
       "      <td>500.00000</td>\n",
       "      <td>0.00000</td>\n",
       "      <td>200.47885</td>\n",
       "      <td>0.000000</td>\n",
       "      <td>0.00000</td>\n",
       "      <td>206036.57</td>\n",
       "      <td>0.00</td>\n",
       "      <td>0.000000</td>\n",
       "    </tr>\n",
       "    <tr>\n",
       "      <th>2</th>\n",
       "      <td>1000.0</td>\n",
       "      <td>66.406337</td>\n",
       "      <td>499.06923</td>\n",
       "      <td>496.43517</td>\n",
       "      <td>469.56218</td>\n",
       "      <td>-0.746819</td>\n",
       "      <td>-162.92661</td>\n",
       "      <td>205947.39</td>\n",
       "      <td>206035.67</td>\n",
       "      <td>0.099112</td>\n",
       "    </tr>\n",
       "    <tr>\n",
       "      <th>3</th>\n",
       "      <td>2000.0</td>\n",
       "      <td>132.756830</td>\n",
       "      <td>504.12737</td>\n",
       "      <td>500.23940</td>\n",
       "      <td>367.79051</td>\n",
       "      <td>-41.270840</td>\n",
       "      <td>-162.92650</td>\n",
       "      <td>205852.77</td>\n",
       "      <td>206019.93</td>\n",
       "      <td>0.104916</td>\n",
       "    </tr>\n",
       "    <tr>\n",
       "      <th>4</th>\n",
       "      <td>3000.0</td>\n",
       "      <td>199.107770</td>\n",
       "      <td>498.82079</td>\n",
       "      <td>500.74544</td>\n",
       "      <td>108.73607</td>\n",
       "      <td>-61.930008</td>\n",
       "      <td>-162.92650</td>\n",
       "      <td>206026.93</td>\n",
       "      <td>206014.29</td>\n",
       "      <td>0.102298</td>\n",
       "    </tr>\n",
       "    <tr>\n",
       "      <th>5</th>\n",
       "      <td>4000.0</td>\n",
       "      <td>265.756330</td>\n",
       "      <td>499.03487</td>\n",
       "      <td>499.13229</td>\n",
       "      <td>-185.78896</td>\n",
       "      <td>-85.978728</td>\n",
       "      <td>-162.92618</td>\n",
       "      <td>206067.84</td>\n",
       "      <td>206029.74</td>\n",
       "      <td>0.103973</td>\n",
       "    </tr>\n",
       "  </tbody>\n",
       "</table>\n",
       "</div>"
      ],
      "text/plain": [
       "     Step         CPU       Temp  f_TempAve      Press  f_PressAve  \\\n",
       "0     0.0    0.000000  500.00000    0.00000  200.47885    0.000000   \n",
       "2  1000.0   66.406337  499.06923  496.43517  469.56218   -0.746819   \n",
       "3  2000.0  132.756830  504.12737  500.23940  367.79051  -41.270840   \n",
       "4  3000.0  199.107770  498.82079  500.74544  108.73607  -61.930008   \n",
       "5  4000.0  265.756330  499.03487  499.13229 -185.78896  -85.978728   \n",
       "\n",
       "   f_PEAve_Atom     Volume     f_vAve  c_MSD[4]  \n",
       "0       0.00000  206036.57       0.00  0.000000  \n",
       "2    -162.92661  205947.39  206035.67  0.099112  \n",
       "3    -162.92650  205852.77  206019.93  0.104916  \n",
       "4    -162.92650  206026.93  206014.29  0.102298  \n",
       "5    -162.92618  206067.84  206029.74  0.103973  "
      ]
     },
     "execution_count": 49,
     "metadata": {},
     "output_type": "execute_result"
    }
   ],
   "source": [
    "thermo = read_lammps_log('structures/log_npt_Si_mtp.dat')#\n",
    "thermo.head()"
   ]
  },
  {
   "cell_type": "markdown",
   "metadata": {},
   "source": [
    "# Set up SOAP descriptor"
   ]
  },
  {
   "cell_type": "code",
   "execution_count": null,
   "metadata": {},
   "outputs": [],
   "source": [
    "soap = Descriptor('soap cutoff=3.5 cutoff_transition_width=0.5 n_max=8 l_max=6 atom_sigma=0.5 n_Z=1 Z={14} n_species=1 species_Z={{14}}')"
   ]
  },
  {
   "cell_type": "markdown",
   "metadata": {},
   "source": [
    "# Create reference crystal structures"
   ]
  },
  {
   "cell_type": "markdown",
   "metadata": {},
   "source": []
  }
 ],
 "metadata": {
  "kernelspec": {
   "display_name": "Python 3 (ipykernel)",
   "language": "python",
   "name": "python3"
  },
  "language_info": {
   "codemirror_mode": {
    "name": "ipython",
    "version": 3
   },
   "file_extension": ".py",
   "mimetype": "text/x-python",
   "name": "python",
   "nbconvert_exporter": "python",
   "pygments_lexer": "ipython3",
   "version": "3.8.15"
  },
  "orig_nbformat": 4
 },
 "nbformat": 4,
 "nbformat_minor": 2
}
