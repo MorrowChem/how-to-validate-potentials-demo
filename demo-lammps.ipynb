{
 "cells": [
  {
   "cell_type": "markdown",
   "metadata": {},
   "source": [
    "# How to validate machine learned potentials\n",
    "\n",
    "Joe D. Morrow \n",
    "\n",
    "## Introduction\n",
    "\n",
    "## Contents\n",
    "\n",
    "## License warning"
   ]
  },
  {
   "cell_type": "code",
   "execution_count": 7,
   "metadata": {
    "vscode": {
     "languageId": "python"
    }
   },
   "outputs": [
    {
     "data": {
      "text/plain": [
       "'/home/magnetite/vld/hert5155/QUIP_new/build/linux_x86_64_gfortran_openmp'"
      ]
     },
     "execution_count": 7,
     "metadata": {},
     "output_type": "execute_result"
    }
   ],
   "source": [
    "import sys\n",
    "sys.path.pop(1)"
   ]
  },
  {
   "cell_type": "code",
   "execution_count": 1,
   "metadata": {
    "vscode": {
     "languageId": "python"
    }
   },
   "outputs": [],
   "source": [
    "%%capture\n",
    "# !conda create -n how-to-validate python=3.8\n",
    "#!pip install -r requirements.txt # install some python packages\n",
    "\n",
    "import numpy as np\n",
    "from ase.io import read, write"
   ]
  },
  {
   "cell_type": "code",
   "execution_count": 2,
   "metadata": {
    "vscode": {
     "languageId": "python"
    }
   },
   "outputs": [],
   "source": [
    "%%capture\n",
    "# compile lammps\n",
    "!wget \"https://github.com/lammps/lammps/archive/stable.zip\"\n",
    "!unzip -q stable.zip\n",
    "!rm stable.zip\n",
    "!mv lammps-stable lammps\n",
    "!cd lammps && mkdir -p build && cd build && cmake ../cmake \\\n",
    "    -D PKG_ML-QUIP=yes -D DOWNLOAD_QUIP=yes -D USE_INTERNAL_LINALG=yes && make -j4"
   ]
  },
  {
   "cell_type": "code",
   "execution_count": 125,
   "metadata": {
    "vscode": {
     "languageId": "python"
    }
   },
   "outputs": [],
   "source": [
    "rundir = 'lammps_runs/run_nvt_test3'   # directory for the output files\n",
    "data_file = 'structures/random_2.data'  # random initial structure - density is determined by this\n",
    "restart_from = 'data'  # change to \"continuation\" to restart from previous run\n",
    "random_seed = 2023        # random seed for lammps\n",
    "melt_timesteps = 1000     # Timesteps in fs for melting\n",
    "cool_timesteps = 1000     # Timesteps in fs for quenching (more = slower quench)\n",
    "melt_temperature = 9000   # in Kelvin\n",
    "final_temperature = 300   # in Kelvin\n",
    "\n",
    "lammps_nvt_input = f'''\n",
    "log {rundir}/log_nvt_C.dat append\n",
    "\n",
    "units metal\n",
    "atom_style atomic\n",
    "\n",
    "if \"{restart_from} == data\" then \"read_data {data_file}\"\n",
    "if \"{restart_from} == data\" then \"reset_timestep 0\"\n",
    "if \"{restart_from} == continuation\" then \"read_restart {rundir}/restart_nvt_C.*\"\n",
    "\n",
    "mass 1 12.011  # mass of carbon\n",
    "pair_style quip\n",
    "# carbon GAP potential from https://doi.org/10.1103/PhysRevB.95.094203\n",
    "pair_coeff * * potentials/carbon.xml \\\"\\\" 6\n",
    "\n",
    "neighbor 2.0 bin \n",
    "neigh_modify every 1 delay 0 check yes \n",
    "\n",
    "variable nAtoms equal atoms\n",
    "group carbon type 1\n",
    "timestep 0.001 \n",
    "fix removeMomentum all momentum 1 linear 1 1 1 \n",
    "\n",
    "compute T all temp \n",
    "fix TempAve all ave/time 100 1 100 c_T \n",
    "\n",
    "variable P equal press \n",
    "fix PressAve all ave/time 100 1 100 v_P \n",
    "variable v equal vol\n",
    "fix vAve all ave/time 100 1 100 v_v\n",
    "compute pe_at all pe/atom\n",
    "compute PE all pe pair \n",
    "variable PE_Atom equal c_PE/v_nAtoms\n",
    "fix PEAve_Atom all ave/time 100 1 100 v_PE_Atom\n",
    "\n",
    "compute MSD all msd\n",
    "\n",
    "thermo_style custom step cpu temp f_TempAve press f_PressAve f_PEAve_Atom vol f_vAve c_MSD[4] \n",
    "thermo_modify flush yes\n",
    "thermo 100\n",
    "dump traj all cfg 100 {rundir}/NVT/dump_nvt_C.*.cfg mass type xs ys zs id c_pe_at\n",
    "dump_modify traj sort id element C pad 8\n",
    "restart 100 {rundir}/restart_nvt_C.*\n",
    "\n",
    "variable Nrun1 equal {melt_timesteps}\n",
    "variable Nrun2 equal (${{Nrun1}}+{cool_timesteps})\n",
    "if \"{melt_timesteps} > 0 && $(step) == 0\" then \"velocity all create {melt_temperature} {random_seed}\"\n",
    "\n",
    "run 0\n",
    "fix integrate all nvt temp {melt_temperature} {melt_temperature} 0.1\n",
    "if \"$(step) < ${{Nrun1}}\" then \"run ${{Nrun1}} upto\"\n",
    "unfix integrate\n",
    "\n",
    "fix integrate all nvt temp {melt_temperature} {final_temperature} 0.1\n",
    "if \"$(step) < ${{Nrun2}}\" then \"run ${{Nrun2}} upto start ${{Nrun1}} stop ${{Nrun2}}\"\n",
    "unfix integrate\n",
    "\n",
    "write_data {rundir}/out_data_quench_C\n",
    "'''\n",
    "\n",
    "with open(\"lammps_runs/nvt.in\", \"w\") as f:\n",
    "    f.write(lammps_nvt_input)"
   ]
  },
  {
   "cell_type": "markdown",
   "metadata": {},
   "source": [
    "# Run lammps\n",
    "Now we run an NVT simulation using the input file above  \n",
    "and the carbon GAP potential from https://doi.org/10.1103/PhysRevB.95.094203"
   ]
  },
  {
   "cell_type": "code",
   "execution_count": 126,
   "metadata": {
    "vscode": {
     "languageId": "python"
    }
   },
   "outputs": [
    {
     "name": "stdout",
     "output_type": "stream",
     "text": [
      "Ignoring PCI device with non-16bit domain.\n",
      "Pass --enable-32bits-pci-domain to configure to support such devices\n",
      "(warning: it would break the library ABI, don't enable unless really needed).\n",
      "LAMMPS (23 Jun 2022 - Update 2)\n",
      "  using 1 OpenMP thread(s) per MPI task\n",
      "Reading data file ...\n",
      "  orthogonal box = (0 0 0) to (8.6177388 8.6177388 8.6177388)\n",
      "  1 by 1 by 1 MPI processor grid\n",
      "  reading atoms ...\n",
      "  64 atoms\n",
      "  read_data CPU = 0.001 seconds\n",
      "64 atoms in group carbon\n",
      "WARNING: No fixes with time integration, atoms won't move (src/verlet.cpp:60)\n",
      "Neighbor list info ...\n",
      "  update every 1 steps, delay 0 steps, check yes\n",
      "  max neighbors/atom: 2000, page size: 100000\n",
      "  master list distance cutoff = 5.7\n",
      "  ghost atom cutoff = 5.7\n",
      "  binsize = 2.85, bins = 4 4 4\n",
      "  1 neighbor lists, perpetual/occasional/extra = 1 0 0\n",
      "  (1) pair quip, perpetual\n",
      "      attributes: full, newton on\n",
      "      pair build: full/bin/atomonly\n",
      "      stencil: full/bin/3d\n",
      "      bin: standard\n",
      "Setting up Verlet run ...\n",
      "  Unit style    : metal\n",
      "  Current step  : 0\n",
      "  Time step     : 0.001\n",
      "Per MPI rank memory allocation (min/avg/max) = 4.964 | 4.964 | 4.964 Mbytes\n",
      "   Step          CPU            Temp        f_TempAve        Press        f_PressAve    f_PEAve_Atom      Volume         f_vAve        c_MSD[4]   \n",
      "         0   0              9000           9000           393663.09      393663.09     -154.30586      640            640            0            \n",
      "Loop time of 7.21e-07 on 1 procs for 0 steps with 64 atoms\n",
      "\n",
      "138.7% CPU use with 1 MPI tasks x 1 OpenMP threads\n",
      "\n",
      "MPI task timing breakdown:\n",
      "Section |  min time  |  avg time  |  max time  |%varavg| %total\n",
      "---------------------------------------------------------------\n",
      "Pair    | 0          | 0          | 0          |   0.0 |  0.00\n",
      "Neigh   | 0          | 0          | 0          |   0.0 |  0.00\n",
      "Comm    | 0          | 0          | 0          |   0.0 |  0.00\n",
      "Output  | 0          | 0          | 0          |   0.0 |  0.00\n",
      "Modify  | 0          | 0          | 0          |   0.0 |  0.00\n",
      "Other   |            | 7.21e-07   |            |       |100.00\n",
      "\n",
      "Nlocal:             64 ave          64 max          64 min\n",
      "Histogram: 1 0 0 0 0 0 0 0 0 0\n",
      "Nghost:            744 ave         744 max         744 min\n",
      "Histogram: 1 0 0 0 0 0 0 0 0 0\n",
      "Neighs:              0 ave           0 max           0 min\n",
      "Histogram: 1 0 0 0 0 0 0 0 0 0\n",
      "FullNghs:         4820 ave        4820 max        4820 min\n",
      "Histogram: 1 0 0 0 0 0 0 0 0 0\n",
      "\n",
      "Total # of neighbors = 4820\n",
      "Ave neighs/atom = 75.3125\n",
      "Neighbor list builds = 0\n",
      "Dangerous builds = 0\n",
      "Setting up Verlet run ...\n",
      "  Unit style    : metal\n",
      "  Current step  : 0\n",
      "  Time step     : 0.001\n",
      "Per MPI rank memory allocation (min/avg/max) = 4.964 | 4.964 | 4.964 Mbytes\n",
      "   Step          CPU            Temp        f_TempAve        Press        f_PressAve    f_PEAve_Atom      Volume         f_vAve        c_MSD[4]   \n",
      "         0   0              9000           9000           393663.09      393663.09     -154.30586      640            640            0            \n",
      "       100   39.935804      12435.501      12435.501      137899.33      137899.33     -155.42281      640            640            10.316175    \n",
      "       200   79.910987      10334.769      10334.769      103641.02      103641.02     -155.68808      640            640            20.563808    \n",
      "       300   119.30406      8467.8984      8467.8984      13758.423      13758.423     -155.78409      640            640            27.652946    \n",
      "       400   160.84085      8766.8496      8766.8496      50644.206      50644.206     -155.91234      640            640            33.453053    \n",
      "       500   201.24143      8998.3727      8998.3727      93937.596      93937.596     -155.88725      640            640            40.727759    \n",
      "       600   242.24533      9528.0954      9528.0954      68640.517      68640.517     -155.79914      640            640            48.152314    \n",
      "       700   281.71292      11242.94       11242.94       73065.395      73065.395     -155.80945      640            640            61.494065    \n",
      "       800   321.49841      9716.4821      9716.4821      36016.86       36016.86      -155.63567      640            640            66.456365    \n",
      "       900   361.69556      8069.2458      8069.2458      7482.9063      7482.9063     -155.60398      640            640            75.197894    \n",
      "      1000   401.2275       9357.9718      9357.9718      139307.1       139307.1      -155.92778      640            640            79.665776    \n",
      "Loop time of 401.228 on 1 procs for 1000 steps with 64 atoms\n",
      "\n",
      "Performance: 0.215 ns/day, 111.452 hours/ns, 2.492 timesteps/s\n",
      "99.7% CPU use with 1 MPI tasks x 1 OpenMP threads\n",
      "\n",
      "MPI task timing breakdown:\n",
      "Section |  min time  |  avg time  |  max time  |%varavg| %total\n",
      "---------------------------------------------------------------\n",
      "Pair    | 401.19     | 401.19     | 401.19     |   0.0 | 99.99\n",
      "Neigh   | 0.014301   | 0.014301   | 0.014301   |   0.0 |  0.00\n",
      "Comm    | 0.0057921  | 0.0057921  | 0.0057921  |   0.0 |  0.00\n",
      "Output  | 0.0032366  | 0.0032366  | 0.0032366  |   0.0 |  0.00\n",
      "Modify  | 0.0089539  | 0.0089539  | 0.0089539  |   0.0 |  0.00\n",
      "Other   |            | 0.002978   |            |       |  0.00\n",
      "\n",
      "Nlocal:             64 ave          64 max          64 min\n",
      "Histogram: 1 0 0 0 0 0 0 0 0 0\n",
      "Nghost:            700 ave         700 max         700 min\n",
      "Histogram: 1 0 0 0 0 0 0 0 0 0\n",
      "Neighs:              0 ave           0 max           0 min\n",
      "Histogram: 1 0 0 0 0 0 0 0 0 0\n",
      "FullNghs:         4894 ave        4894 max        4894 min\n",
      "Histogram: 1 0 0 0 0 0 0 0 0 0\n",
      "\n",
      "Total # of neighbors = 4894\n",
      "Ave neighs/atom = 76.46875\n",
      "Neighbor list builds = 83\n",
      "Dangerous builds = 0\n",
      "Setting up Verlet run ...\n",
      "  Unit style    : metal\n",
      "  Current step  : 1000\n",
      "  Time step     : 0.001\n",
      "Per MPI rank memory allocation (min/avg/max) = 4.964 | 4.964 | 4.964 Mbytes\n",
      "   Step          CPU            Temp        f_TempAve        Press        f_PressAve    f_PEAve_Atom      Volume         f_vAve        c_MSD[4]   \n",
      "      1000   0              9357.9718      9357.9718      139307.1       139307.1      -155.92778      640            640            79.665776    \n",
      "      1100   40.031383      8979.9299      8979.9299      158305.47      158305.47     -155.86151      640            640            89.59267     \n",
      "      1200   81.76644       7822.3414      7822.3414      36771.107      36771.107     -155.82904      640            640            89.612039    \n",
      "      1300   121.32228      7378.3043      7378.3043     -814.99895     -814.99895     -156.06337      640            640            96.316955    \n",
      "      1400   161.33859      6533.7124      6533.7124      43400.16       43400.16      -156.12573      640            640            99.742181    \n",
      "      1500   203.54773      5407.6428      5407.6428     -17822.742     -17822.742     -156.18857      640            640            102.80901    \n",
      "      1600   245.46832      4230.0113      4230.0113     -4350.8379     -4350.8379     -156.23703      640            640            100.17897    \n",
      "      1700   285.63603      4834.3978      4834.3978     -29671.349     -29671.349     -156.55894      640            640            103.684      \n",
      "      1800   326.6754       3859.9953      3859.9953      26904.618      26904.618     -156.73421      640            640            103.59971    \n",
      "      1900   367.88126      3061.7525      3061.7525     -5482.4881     -5482.4881     -156.95843      640            640            103.14203    \n",
      "      2000   409.25258      1917.7432      1917.7432      27814.29       27814.29      -157.16652      640            640            102.49929    \n",
      "Loop time of 409.253 on 1 procs for 1000 steps with 64 atoms\n",
      "\n",
      "Performance: 0.211 ns/day, 113.681 hours/ns, 2.443 timesteps/s\n",
      "99.7% CPU use with 1 MPI tasks x 1 OpenMP threads\n",
      "\n",
      "MPI task timing breakdown:\n",
      "Section |  min time  |  avg time  |  max time  |%varavg| %total\n",
      "---------------------------------------------------------------\n",
      "Pair    | 409.22     | 409.22     | 409.22     |   0.0 | 99.99\n",
      "Neigh   | 0.010207   | 0.010207   | 0.010207   |   0.0 |  0.00\n",
      "Comm    | 0.0057388  | 0.0057388  | 0.0057388  |   0.0 |  0.00\n",
      "Output  | 0.003269   | 0.003269   | 0.003269   |   0.0 |  0.00\n",
      "Modify  | 0.0094364  | 0.0094364  | 0.0094364  |   0.0 |  0.00\n",
      "Other   |            | 0.003002   |            |       |  0.00\n",
      "\n",
      "Nlocal:             64 ave          64 max          64 min\n",
      "Histogram: 1 0 0 0 0 0 0 0 0 0\n",
      "Nghost:            766 ave         766 max         766 min\n",
      "Histogram: 1 0 0 0 0 0 0 0 0 0\n",
      "Neighs:              0 ave           0 max           0 min\n",
      "Histogram: 1 0 0 0 0 0 0 0 0 0\n",
      "FullNghs:         4880 ave        4880 max        4880 min\n",
      "Histogram: 1 0 0 0 0 0 0 0 0 0\n",
      "\n",
      "Total # of neighbors = 4880\n",
      "Ave neighs/atom = 76.25\n",
      "Neighbor list builds = 59\n",
      "Dangerous builds = 0\n",
      "System init for write_data ...\n",
      "Total wall time: 0:13:32\n"
     ]
    }
   ],
   "source": [
    "!mkdir -p ./lammps_runs/${rundir}/NVT\n",
    "!export OMP_NUM_THREADS=1 && mpirun -np 1 lammps/build/lmp -in lammps_runs/nvt.in"
   ]
  },
  {
   "cell_type": "markdown",
   "metadata": {},
   "source": [
    "# Structure analysis"
   ]
  },
  {
   "cell_type": "code",
   "execution_count": 79,
   "metadata": {
    "vscode": {
     "languageId": "python"
    }
   },
   "outputs": [],
   "source": [
    "from quippy.descriptors import Descriptor\n",
    "import os\n",
    "from os.path import join\n",
    "import matplotlib.pyplot as plt"
   ]
  },
  {
   "cell_type": "code",
   "execution_count": 76,
   "metadata": {
    "vscode": {
     "languageId": "python"
    }
   },
   "outputs": [],
   "source": [
    "# read the structures\n",
    "traj_dir = f'./{rundir}/NVT/'\n",
    "atoms = [read(join(traj_dir, i)) for i in os.listdir(traj_dir)]"
   ]
  },
  {
   "cell_type": "code",
   "execution_count": 77,
   "metadata": {
    "vscode": {
     "languageId": "python"
    }
   },
   "outputs": [
    {
     "data": {
      "text/plain": [
       "[Atoms(symbols='C64', pbc=True, cell=[9.28318, 9.28318, 9.28318], c_pe_at=..., id=..., masses=...),\n",
       " Atoms(symbols='C64', pbc=True, cell=[9.28318, 9.28318, 9.28318], c_pe_at=..., id=..., masses=...),\n",
       " Atoms(symbols='C64', pbc=True, cell=[9.28318, 9.28318, 9.28318], c_pe_at=..., id=..., masses=...),\n",
       " Atoms(symbols='C64', pbc=True, cell=[9.28318, 9.28318, 9.28318], c_pe_at=..., id=..., masses=...),\n",
       " Atoms(symbols='C64', pbc=True, cell=[9.28318, 9.28318, 9.28318], c_pe_at=..., id=..., masses=...),\n",
       " Atoms(symbols='C64', pbc=True, cell=[9.28318, 9.28318, 9.28318], c_pe_at=..., id=..., masses=...),\n",
       " Atoms(symbols='C64', pbc=True, cell=[9.28318, 9.28318, 9.28318], c_pe_at=..., id=..., masses=...),\n",
       " Atoms(symbols='C64', pbc=True, cell=[9.28318, 9.28318, 9.28318], c_pe_at=..., id=..., masses=...),\n",
       " Atoms(symbols='C64', pbc=True, cell=[9.28318, 9.28318, 9.28318], c_pe_at=..., id=..., masses=...),\n",
       " Atoms(symbols='C64', pbc=True, cell=[9.28318, 9.28318, 9.28318], c_pe_at=..., id=..., masses=...),\n",
       " Atoms(symbols='C64', pbc=True, cell=[9.28318, 9.28318, 9.28318], c_pe_at=..., id=..., masses=...),\n",
       " Atoms(symbols='C64', pbc=True, cell=[9.28318, 9.28318, 9.28318], c_pe_at=..., id=..., masses=...),\n",
       " Atoms(symbols='C64', pbc=True, cell=[9.28318, 9.28318, 9.28318], c_pe_at=..., id=..., masses=...),\n",
       " Atoms(symbols='C64', pbc=True, cell=[9.28318, 9.28318, 9.28318], c_pe_at=..., id=..., masses=...),\n",
       " Atoms(symbols='C64', pbc=True, cell=[9.28318, 9.28318, 9.28318], c_pe_at=..., id=..., masses=...),\n",
       " Atoms(symbols='C64', pbc=True, cell=[9.28318, 9.28318, 9.28318], c_pe_at=..., id=..., masses=...),\n",
       " Atoms(symbols='C64', pbc=True, cell=[9.28318, 9.28318, 9.28318], c_pe_at=..., id=..., masses=...),\n",
       " Atoms(symbols='C64', pbc=True, cell=[9.28318, 9.28318, 9.28318], c_pe_at=..., id=..., masses=...),\n",
       " Atoms(symbols='C64', pbc=True, cell=[9.28318, 9.28318, 9.28318], c_pe_at=..., id=..., masses=...),\n",
       " Atoms(symbols='C64', pbc=True, cell=[9.28318, 9.28318, 9.28318], c_pe_at=..., id=..., masses=...),\n",
       " Atoms(symbols='C64', pbc=True, cell=[9.28318, 9.28318, 9.28318], c_pe_at=..., id=..., masses=...)]"
      ]
     },
     "execution_count": 77,
     "metadata": {},
     "output_type": "execute_result"
    }
   ],
   "source": [
    "atoms"
   ]
  },
  {
   "cell_type": "code",
   "execution_count": 85,
   "metadata": {
    "vscode": {
     "languageId": "python"
    }
   },
   "outputs": [
    {
     "data": {
      "text/plain": [
       "[Text(0.5, 0, 'Time (fs)'), Text(0, 0.5, 'Energy (eV)')]"
      ]
     },
     "execution_count": 85,
     "metadata": {},
     "output_type": "execute_result"
    },
    {
     "data": {
      "image/png": "[encoded data removed]",
      "text/plain": [
       "<Figure size 640x480 with 1 Axes>"
      ]
     },
     "metadata": {},
     "output_type": "display_data"
    }
   ],
   "source": [
    "fig, axs = plt.subplots()\n",
    "energies = [i.arrays['c_pe_at'].mean() for i in atoms]\n",
    "\n",
    "axs.plot(np.arange(0, len(atoms)*100, 100), energies)\n",
    "axs.set(xlabel='Time (fs)', ylabel='Energy (eV)')"
   ]
  },
  {
   "cell_type": "markdown",
   "metadata": {},
   "source": [
    "## RDF analysis"
   ]
  },
  {
   "cell_type": "code",
   "execution_count": 86,
   "metadata": {
    "vscode": {
     "languageId": "python"
    }
   },
   "outputs": [],
   "source": [
    "from ase.geometry.analysis import Analysis"
   ]
  },
  {
   "cell_type": "code",
   "execution_count": null,
   "metadata": {
    "vscode": {
     "languageId": "python"
    }
   },
   "outputs": [],
   "source": [
    "geo_analysis = Analysis(atoms[0])\n",
    "\n",
    "rdfs = geo_analysis.get_rdf(rmax=4, nbins=20, return_dists=True)[0]"
   ]
  },
  {
   "cell_type": "code",
   "execution_count": 120,
   "metadata": {
    "vscode": {
     "languageId": "python"
    }
   },
   "outputs": [
    {
     "data": {
      "text/plain": [
       "(array([0.        , 0.        , 0.        , 0.        , 0.        ,\n",
       "        0.        , 0.        , 0.        , 0.        , 0.        ,\n",
       "        0.        , 0.        , 0.        , 0.        , 0.        ,\n",
       "        0.        , 0.        , 0.        , 0.        , 0.        ,\n",
       "        0.        , 0.        , 0.        , 0.        , 0.        ,\n",
       "        0.74685193, 1.38311165, 1.2843615 , 0.        , 0.        ,\n",
       "        1.0441477 , 0.4894552 , 0.        , 1.29828463, 0.        ,\n",
       "        0.77075278, 1.45820177, 0.69073625, 1.96596553, 2.49025101,\n",
       "        1.48050002, 0.56400547, 1.61333248, 0.51333737, 0.98105243,\n",
       "        0.46920242, 0.22461972, 1.07630974, 1.44533893, 0.99109517,\n",
       "        1.71402079, 1.2818596 , 0.88106671, 1.52718913, 1.14462539,\n",
       "        0.7883931 , 1.21717291, 0.73450354, 0.70960754, 1.37191236,\n",
       "        0.39808072, 0.77048107, 1.2433724 , 1.08406821, 1.16746104,\n",
       "        1.2452948 , 0.54914755, 0.74619627, 1.55264771, 0.80442102,\n",
       "        0.87948314, 0.95006072, 1.2012433 , 0.62934268, 0.70006996,\n",
       "        0.17041204, 1.57686702, 0.88951603, 0.55172591, 1.22956226,\n",
       "        0.89940319, 1.68181296, 0.78496446, 0.90559858, 1.29242586,\n",
       "        1.06304911, 1.16843882, 0.6343803 , 1.11622531, 1.15205586,\n",
       "        0.94883114, 1.21826932, 0.96500986, 0.88892096, 0.9245955 ,\n",
       "        1.17160845, 1.04313858, 0.66420301, 1.20144965, 1.22648069]),\n",
       " array([0.02, 0.06, 0.1 , 0.14, 0.18, 0.22, 0.26, 0.3 , 0.34, 0.38, 0.42,\n",
       "        0.46, 0.5 , 0.54, 0.58, 0.62, 0.66, 0.7 , 0.74, 0.78, 0.82, 0.86,\n",
       "        0.9 , 0.94, 0.98, 1.02, 1.06, 1.1 , 1.14, 1.18, 1.22, 1.26, 1.3 ,\n",
       "        1.34, 1.38, 1.42, 1.46, 1.5 , 1.54, 1.58, 1.62, 1.66, 1.7 , 1.74,\n",
       "        1.78, 1.82, 1.86, 1.9 , 1.94, 1.98, 2.02, 2.06, 2.1 , 2.14, 2.18,\n",
       "        2.22, 2.26, 2.3 , 2.34, 2.38, 2.42, 2.46, 2.5 , 2.54, 2.58, 2.62,\n",
       "        2.66, 2.7 , 2.74, 2.78, 2.82, 2.86, 2.9 , 2.94, 2.98, 3.02, 3.06,\n",
       "        3.1 , 3.14, 3.18, 3.22, 3.26, 3.3 , 3.34, 3.38, 3.42, 3.46, 3.5 ,\n",
       "        3.54, 3.58, 3.62, 3.66, 3.7 , 3.74, 3.78, 3.82, 3.86, 3.9 , 3.94,\n",
       "        3.98]))"
      ]
     },
     "execution_count": 120,
     "metadata": {},
     "output_type": "execute_result"
    }
   ],
   "source": [
    "rdfs"
   ]
  },
  {
   "cell_type": "code",
   "execution_count": 122,
   "metadata": {
    "vscode": {
     "languageId": "python"
    }
   },
   "outputs": [
    {
     "data": {
      "text/plain": [
       "[<matplotlib.lines.Line2D at 0x7fa309db5220>]"
      ]
     },
     "execution_count": 122,
     "metadata": {},
     "output_type": "execute_result"
    },
    {
     "data": {
      "image/png": "[encoded data removed]",
      "text/plain": [
       "<Figure size 640x480 with 1 Axes>"
      ]
     },
     "metadata": {},
     "output_type": "display_data"
    }
   ],
   "source": [
    "fig, axs = plt.subplots()\n",
    "axs.plot(rdfs[1], rdfs[0])"
   ]
  },
  {
   "cell_type": "markdown",
   "metadata": {},
   "source": [
    "# Generate some random structures"
   ]
  },
  {
   "cell_type": "code",
   "execution_count": null,
   "metadata": {
    "vscode": {
     "languageId": "python"
    }
   },
   "outputs": [],
   "source": [
    "at = read('random.data', format='lammps-data', style='atomic')\n",
    "len(at)/at.get_volume()"
   ]
  },
  {
   "cell_type": "code",
   "execution_count": 34,
   "metadata": {
    "vscode": {
     "languageId": "python"
    }
   },
   "outputs": [
    {
     "name": "stdout",
     "output_type": "stream",
     "text": [
      "Percent: [##############################] 100.00% Done...\n",
      "Complete\n",
      "Percent: [##############################] 100.00% Done...\n",
      "Complete\n",
      "Percent: [##############################] 100.00% Done...\n",
      "Complete\n"
     ]
    }
   ],
   "source": [
    "from structure_utils import random_structure\n",
    "\n",
    "at_10 = random_structure(64, 0.10, min_dist=1, types=['C'])\n",
    "at_08 = random_structure(64, 0.08, min_dist=1, types=['C'])\n",
    "at_12 = random_structure(64, 0.12, min_dist=1, types=['C'])\n",
    "\n",
    "write('random_2.data', at_10, format='lammps-data', atom_style='atomic')\n",
    "write('random_1.data', at_08, format='lammps-data', atom_style='atomic')\n",
    "write('random_3.data', at_12, format='lammps-data', atom_style='atomic')"
   ]
  },
  {
   "cell_type": "markdown",
   "metadata": {},
   "source": [
    "# Si trajectory analysis"
   ]
  },
  {
   "cell_type": "code",
   "execution_count": null,
   "metadata": {
    "vscode": {
     "languageId": "python"
    }
   },
   "outputs": [],
   "source": [
    "f"
   ]
  }
 ],
 "metadata": {
  "kernelspec": {
   "display_name": "Python 3 (ipykernel)",
   "language": "python",
   "name": "python3"
  },
  "orig_nbformat": 4
 },
 "nbformat": 4,
 "nbformat_minor": 2
}
