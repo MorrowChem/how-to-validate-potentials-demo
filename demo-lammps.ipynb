{
 "cells": [
  {
   "cell_type": "markdown",
   "metadata": {},
   "source": [
    "# Carbon MD simulation\n",
    "\n",
    "This notebook will install and compile lammps, then run a small 64-atom simulated melt-quench using a GAP potential\n",
    "\n",
    "__License warning__ The GAP code is free to use for non-commerical purposes only. Please refer to [here](https://libatoms.github.io/GAP/installation.html)\n",
    "for more details\n",
    "\n",
    "\n",
    "\n",
    "Joe D. Morrow "
   ]
  },
  {
   "cell_type": "code",
   "execution_count": 1,
   "metadata": {},
   "outputs": [],
   "source": [
    "%%capture\n",
    "# install some python packages if not already done\n",
    "# !conda create -n how-to-validate python=3.8\n",
    "# !pip install -r requirements.txt "
   ]
  },
  {
   "cell_type": "code",
   "execution_count": 2,
   "metadata": {},
   "outputs": [],
   "source": [
    "%%capture\n",
    "# compile lammps with QUIP support\n",
    "!wget \"https://github.com/lammps/lammps/archive/stable.zip\"\n",
    "print(\"lammps downloaded\")\n",
    "!unzip -q stable.zip\n",
    "!rm stable.zip\n",
    "!mv lammps-stable lammps\n",
    "print(\"compiling...\")\n",
    "!cd lammps && mkdir -p build && cd build && cmake ../cmake \\\n",
    "    -D PKG_ML-QUIP=yes -D DOWNLOAD_QUIP=yes -D USE_INTERNAL_LINALG=yes && make -j4 &> lammps/make.log"
   ]
  },
  {
   "cell_type": "code",
   "execution_count": 4,
   "metadata": {},
   "outputs": [],
   "source": [
    "rundir = 'lammps_runs/run_nvt'   # directory for the output files\n",
    "data_file = 'structures/random_1.data'  # random initial structure - density is determined by this\n",
    "restart_from = 'data'  # change to \"continuation\" to restart from previous run\n",
    "random_seed = 2023        # random seed for lammps\n",
    "melt_timesteps = 1000     # Timesteps in fs for melting\n",
    "cool_timesteps = 1000     # Timesteps in fs for quenching (more = slower quench)\n",
    "melt_temperature = 9000   # in Kelvin\n",
    "final_temperature = 300   # in Kelvin\n",
    "\n",
    "# input file for LAMMPS\n",
    "lammps_nvt_input = f'''\n",
    "log {rundir}/log_nvt_C.dat append\n",
    "\n",
    "units metal\n",
    "atom_style atomic\n",
    "\n",
    "if \"{restart_from} == data\" then \"read_data {data_file}\"\n",
    "if \"{restart_from} == data\" then \"reset_timestep 0\"\n",
    "if \"{restart_from} == continuation\" then \"read_restart {rundir}/restart_nvt_C.*\"\n",
    "\n",
    "mass 1 12.011  # mass of carbon\n",
    "pair_style quip\n",
    "# carbon GAP potential from https://doi.org/10.1103/PhysRevB.95.094203\n",
    "pair_coeff * * potentials/carbon.xml \\\"\\\" 6\n",
    "\n",
    "neighbor 2.0 bin \n",
    "neigh_modify every 1 delay 0 check yes \n",
    "\n",
    "variable nAtoms equal atoms\n",
    "group carbon type 1\n",
    "timestep 0.001 \n",
    "fix removeMomentum all momentum 1 linear 1 1 1 \n",
    "\n",
    "compute T all temp \n",
    "variable P equal press\n",
    "variable v equal vol\n",
    "compute MSD all msd\n",
    "fix TempAve all ave/time 100 1 100 c_T \n",
    "fix PressAve all ave/time 100 1 100 v_P \n",
    "fix vAve all ave/time 100 1 100 v_v\n",
    "\n",
    "compute pe_at all pe/atom\n",
    "compute PE all pe pair \n",
    "variable PE_Atom equal c_PE/v_nAtoms\n",
    "fix PEAve_Atom all ave/time 100 1 100 v_PE_Atom\n",
    "\n",
    "# Set up output files\n",
    "thermo_style custom step cpu temp f_TempAve press f_PressAve f_PEAve_Atom vol f_vAve c_MSD[4] \n",
    "thermo_modify flush yes\n",
    "thermo 100\n",
    "dump traj all cfg 100 {rundir}/NVT/dump_nvt_C.*.cfg mass type xs ys zs id c_pe_at\n",
    "dump_modify traj sort id element C pad 8\n",
    "restart 100 {rundir}/restart_nvt_C.*\n",
    "\n",
    "# Set up NVT run\n",
    "variable Nrun1 equal {melt_timesteps}\n",
    "variable Nrun2 equal (${{Nrun1}}+{cool_timesteps})\n",
    "if \"{melt_timesteps} > 0 && $(step) == 0\" then \"velocity all create {melt_temperature} {random_seed}\"\n",
    "\n",
    "# (1) melting \n",
    "run 0\n",
    "fix integrate all nvt temp {melt_temperature} {melt_temperature} 0.1\n",
    "if \"$(step) < ${{Nrun1}}\" then \"run ${{Nrun1}} upto\"\n",
    "unfix integrate\n",
    "\n",
    "# (2) quenching\n",
    "fix integrate all nvt temp {melt_temperature} {final_temperature} 0.1\n",
    "if \"$(step) < ${{Nrun2}}\" then \"run ${{Nrun2}} upto start ${{Nrun1}} stop ${{Nrun2}}\"\n",
    "unfix integrate\n",
    "\n",
    "write_data {rundir}/out_data_quench_C\n",
    "'''\n",
    "\n",
    "with open(\"lammps_runs/nvt.in\", \"w\") as f:\n",
    "    f.write(lammps_nvt_input)"
   ]
  },
  {
   "cell_type": "markdown",
   "metadata": {},
   "source": [
    "# Run lammps\n",
    "Now we run an NVT simulation using the input file above  \n",
    "and the carbon GAP potential from [Phys. Rev. B __95__, 094203](https://doi.org/10.1103/PhysRevB.95.094203)\n",
    "\n",
    "This should take about 15 minutes to run on a single core\n",
    "\n",
    "If it's not working, there's an example trajectory at `lammps_runs/run_nvt_test.tar.gz`  \n",
    "run `tar -xzf lammps_runs/run_nvt_test.tar.gz` to decompress"
   ]
  },
  {
   "cell_type": "code",
   "execution_count": 2,
   "metadata": {},
   "outputs": [
    {
     "name": "stdout",
     "output_type": "stream",
     "text": [
      "Ignoring PCI device with non-16bit domain.\n",
      "Pass --enable-32bits-pci-domain to configure to support such devices\n",
      "(warning: it would break the library ABI, don't enable unless really needed).\n",
      "LAMMPS (23 Jun 2022 - Update 2)\n",
      "  using 1 OpenMP thread(s) per MPI task\n",
      "Reading data file ...\n",
      "  orthogonal box = (0 0 0) to (8.1096027 8.1096027 8.1096027)\n",
      "  1 by 1 by 1 MPI processor grid\n",
      "  reading atoms ...\n",
      "  64 atoms\n",
      "  read_data CPU = 0.012 seconds\n",
      "64 atoms in group carbon\n",
      "WARNING: No fixes with time integration, atoms won't move (src/verlet.cpp:60)\n",
      "Neighbor list info ...\n",
      "  update every 1 steps, delay 0 steps, check yes\n",
      "  max neighbors/atom: 2000, page size: 100000\n",
      "  master list distance cutoff = 5.7\n",
      "  ghost atom cutoff = 5.7\n",
      "  binsize = 2.85, bins = 3 3 3\n",
      "  1 neighbor lists, perpetual/occasional/extra = 1 0 0\n",
      "  (1) pair quip, perpetual\n",
      "      attributes: full, newton on\n",
      "      pair build: full/bin/atomonly\n",
      "      stencil: full/bin/3d\n",
      "      bin: standard\n",
      "Setting up Verlet run ...\n",
      "  Unit style    : metal\n",
      "  Current step  : 0\n",
      "  Time step     : 0.001\n",
      "Per MPI rank memory allocation (min/avg/max) = 4.975 | 4.975 | 4.975 Mbytes\n",
      "   Step          CPU            Temp        f_TempAve        Press        f_PressAve    f_PEAve_Atom      Volume         f_vAve        c_MSD[4]   \n",
      "         0   0              9000           9000           798358.15      798358.15     -153.97957      533.33333      533.33333      0            \n",
      "Loop time of 7.37e-07 on 1 procs for 0 steps with 64 atoms\n",
      "\n",
      "135.7% CPU use with 1 MPI tasks x 1 OpenMP threads\n",
      "\n",
      "MPI task timing breakdown:\n",
      "Section |  min time  |  avg time  |  max time  |%varavg| %total\n",
      "---------------------------------------------------------------\n",
      "Pair    | 0          | 0          | 0          |   0.0 |  0.00\n",
      "Neigh   | 0          | 0          | 0          |   0.0 |  0.00\n",
      "Comm    | 0          | 0          | 0          |   0.0 |  0.00\n",
      "Output  | 0          | 0          | 0          |   0.0 |  0.00\n",
      "Modify  | 0          | 0          | 0          |   0.0 |  0.00\n",
      "Other   |            | 7.37e-07   |            |       |100.00\n",
      "\n",
      "Nlocal:             64 ave          64 max          64 min\n",
      "Histogram: 1 0 0 0 0 0 0 0 0 0\n",
      "Nghost:            899 ave         899 max         899 min\n",
      "Histogram: 1 0 0 0 0 0 0 0 0 0\n",
      "Neighs:              0 ave           0 max           0 min\n",
      "Histogram: 1 0 0 0 0 0 0 0 0 0\n",
      "FullNghs:         5826 ave        5826 max        5826 min\n",
      "Histogram: 1 0 0 0 0 0 0 0 0 0\n",
      "\n",
      "Total # of neighbors = 5826\n",
      "Ave neighs/atom = 91.03125\n",
      "Neighbor list builds = 0\n",
      "Dangerous builds = 0\n",
      "Setting up Verlet run ...\n",
      "  Unit style    : metal\n",
      "  Current step  : 0\n",
      "  Time step     : 0.001\n",
      "Per MPI rank memory allocation (min/avg/max) = 4.975 | 4.975 | 4.975 Mbytes\n",
      "   Step          CPU            Temp        f_TempAve        Press        f_PressAve    f_PEAve_Atom      Volume         f_vAve        c_MSD[4]   \n",
      "         0   0              9000           9000           798358.15      798358.15     -153.97957      533.33333      533.33333      0            \n",
      "       100   49.757113      12522.93       12522.93       217125.3       217125.3      -155.29521      533.33333      533.33333      9.7169613    \n",
      "       200   98.158539      11168.405      11168.405      310697.13      310697.13     -155.82328      533.33333      533.33333      18.023863    \n",
      "       300   147.64453      8520.1172      8520.1172      102546.28      102546.28     -155.8462       533.33333      533.33333      23.657173    \n",
      "       400   196.57496      8668.7204      8668.7204      145418.37      145418.37     -155.95716      533.33333      533.33333      27.033495    \n",
      "       500   244.98622      8090.5667      8090.5667      214993.65      214993.65     -155.79472      533.33333      533.33333      34.762166    \n",
      "       600   294.02579      10376.956      10376.956      126660.62      126660.62     -155.86535      533.33333      533.33333      45.843473    \n",
      "       700   342.85385      9382.8526      9382.8526      119192.53      119192.53     -155.63787      533.33333      533.33333      58.608811    \n",
      "       800   391.69399      9082.1924      9082.1924      197069.21      197069.21     -155.7225       533.33333      533.33333      66.330147    \n",
      "       900   440.75321      8769.7991      8769.7991      113743.07      113743.07     -155.86415      533.33333      533.33333      75.043648    \n",
      "      1000   490.43154      7708.0317      7708.0317      254315.55      254315.55     -155.80379      533.33333      533.33333      81.169673    \n",
      "Loop time of 490.432 on 1 procs for 1000 steps with 64 atoms\n",
      "\n",
      "Performance: 0.176 ns/day, 136.231 hours/ns, 2.039 timesteps/s\n",
      "99.8% CPU use with 1 MPI tasks x 1 OpenMP threads\n",
      "\n",
      "MPI task timing breakdown:\n",
      "Section |  min time  |  avg time  |  max time  |%varavg| %total\n",
      "---------------------------------------------------------------\n",
      "Pair    | 490.39     | 490.39     | 490.39     |   0.0 | 99.99\n",
      "Neigh   | 0.018245   | 0.018245   | 0.018245   |   0.0 |  0.00\n",
      "Comm    | 0.0072902  | 0.0072902  | 0.0072902  |   0.0 |  0.00\n",
      "Output  | 0.0030794  | 0.0030794  | 0.0030794  |   0.0 |  0.00\n",
      "Modify  | 0.0095844  | 0.0095844  | 0.0095844  |   0.0 |  0.00\n",
      "Other   |            | 0.002807   |            |       |  0.00\n",
      "\n",
      "Nlocal:             64 ave          64 max          64 min\n",
      "Histogram: 1 0 0 0 0 0 0 0 0 0\n",
      "Nghost:            873 ave         873 max         873 min\n",
      "Histogram: 1 0 0 0 0 0 0 0 0 0\n",
      "Neighs:              0 ave           0 max           0 min\n",
      "Histogram: 1 0 0 0 0 0 0 0 0 0\n",
      "FullNghs:         5886 ave        5886 max        5886 min\n",
      "Histogram: 1 0 0 0 0 0 0 0 0 0\n",
      "\n",
      "Total # of neighbors = 5886\n",
      "Ave neighs/atom = 91.96875\n",
      "Neighbor list builds = 83\n",
      "Dangerous builds = 0\n",
      "Setting up Verlet run ...\n",
      "  Unit style    : metal\n",
      "  Current step  : 1000\n",
      "  Time step     : 0.001\n",
      "Per MPI rank memory allocation (min/avg/max) = 4.975 | 4.975 | 4.975 Mbytes\n",
      "   Step          CPU            Temp        f_TempAve        Press        f_PressAve    f_PEAve_Atom      Volume         f_vAve        c_MSD[4]   \n",
      "      1000   0              7708.0317      7708.0317      254315.55      254315.55     -155.80379      533.33333      533.33333      81.169673    \n",
      "      1100   49.039845      8747.6113      8747.6113      98872.634      98872.634     -155.88749      533.33333      533.33333      83.300993    \n",
      "      1200   98.619687      8428.9735      8428.9735      206428.36      206428.36     -155.87025      533.33333      533.33333      87.450217    \n",
      "      1300   147.58234      7370.209       7370.209       97861.524      97861.524     -156.04078      533.33333      533.33333      89.252484    \n",
      "      1400   195.49253      5630.12        5630.12        61510.665      61510.665     -156.02853      533.33333      533.33333      95.027256    \n",
      "      1500   242.90891      5651.0532      5651.0532      14372.464      14372.464     -156.20377      533.33333      533.33333      93.068895    \n",
      "      1600   290.80244      5394.7515      5394.7515      12704.088      12704.088     -156.42475      533.33333      533.33333      95.561616    \n",
      "      1700   340.56507      4273.7118      4273.7118      107856.01      107856.01     -156.54506      533.33333      533.33333      95.278113    \n",
      "      1800   389.37903      3755.0517      3755.0517      29120.262      29120.262     -156.77397      533.33333      533.33333      97.452166    \n",
      "      1900   438.2775       2779.5529      2779.5529      46170.958      46170.958     -156.96317      533.33333      533.33333      97.731089    \n",
      "      2000   486.44126      1866.2132      1866.2132      18355.787      18355.787     -157.19109      533.33333      533.33333      97.904267    \n",
      "Loop time of 486.441 on 1 procs for 1000 steps with 64 atoms\n",
      "\n",
      "Performance: 0.178 ns/day, 135.123 hours/ns, 2.056 timesteps/s\n",
      "99.8% CPU use with 1 MPI tasks x 1 OpenMP threads\n",
      "\n",
      "MPI task timing breakdown:\n",
      "Section |  min time  |  avg time  |  max time  |%varavg| %total\n",
      "---------------------------------------------------------------\n",
      "Pair    | 486.41     | 486.41     | 486.41     |   0.0 | 99.99\n",
      "Neigh   | 0.01307    | 0.01307    | 0.01307    |   0.0 |  0.00\n",
      "Comm    | 0.006587   | 0.006587   | 0.006587   |   0.0 |  0.00\n",
      "Output  | 0.0033205  | 0.0033205  | 0.0033205  |   0.0 |  0.00\n",
      "Modify  | 0.0091284  | 0.0091284  | 0.0091284  |   0.0 |  0.00\n",
      "Other   |            | 0.002544   |            |       |  0.00\n",
      "\n",
      "Nlocal:             64 ave          64 max          64 min\n",
      "Histogram: 1 0 0 0 0 0 0 0 0 0\n",
      "Nghost:            847 ave         847 max         847 min\n",
      "Histogram: 1 0 0 0 0 0 0 0 0 0\n",
      "Neighs:              0 ave           0 max           0 min\n",
      "Histogram: 1 0 0 0 0 0 0 0 0 0\n",
      "FullNghs:         5902 ave        5902 max        5902 min\n",
      "Histogram: 1 0 0 0 0 0 0 0 0 0\n",
      "\n",
      "Total # of neighbors = 5902\n",
      "Ave neighs/atom = 92.21875\n",
      "Neighbor list builds = 59\n",
      "Dangerous builds = 0\n",
      "System init for write_data ...\n",
      "Total wall time: 0:16:19\n"
     ]
    }
   ],
   "source": [
    "!mkdir -p ./lammps_runs/${rundir}/NVT\n",
    "!export OMP_NUM_THREADS=1 && mpirun -np 1 lammps/build/lmp -in lammps_runs/nvt.in"
   ]
  },
  {
   "cell_type": "markdown",
   "metadata": {},
   "source": [
    "# Check simulation results"
   ]
  },
  {
   "cell_type": "code",
   "execution_count": 7,
   "metadata": {},
   "outputs": [],
   "source": [
    "from share.utilities import read_lammps_log\n",
    "import numpy as np\n",
    "import matplotlib.pyplot as plt"
   ]
  },
  {
   "cell_type": "code",
   "execution_count": 31,
   "metadata": {},
   "outputs": [],
   "source": [
    "!tar -xzf lammps_runs/run_nvt_test.tar.gz"
   ]
  },
  {
   "cell_type": "code",
   "execution_count": 32,
   "metadata": {},
   "outputs": [
    {
     "data": {
      "text/html": [
       "<div>\n",
       "<style scoped>\n",
       "    .dataframe tbody tr th:only-of-type {\n",
       "        vertical-align: middle;\n",
       "    }\n",
       "\n",
       "    .dataframe tbody tr th {\n",
       "        vertical-align: top;\n",
       "    }\n",
       "\n",
       "    .dataframe thead th {\n",
       "        text-align: right;\n",
       "    }\n",
       "</style>\n",
       "<table border=\"1\" class=\"dataframe\">\n",
       "  <thead>\n",
       "    <tr style=\"text-align: right;\">\n",
       "      <th></th>\n",
       "      <th>Step</th>\n",
       "      <th>CPU</th>\n",
       "      <th>Temp</th>\n",
       "      <th>f_TempAve</th>\n",
       "      <th>Press</th>\n",
       "      <th>f_PressAve</th>\n",
       "      <th>f_PEAve_Atom</th>\n",
       "      <th>Volume</th>\n",
       "      <th>f_vAve</th>\n",
       "      <th>c_MSD[4]</th>\n",
       "    </tr>\n",
       "  </thead>\n",
       "  <tbody>\n",
       "    <tr>\n",
       "      <th>0</th>\n",
       "      <td>0.0</td>\n",
       "      <td>0.000000</td>\n",
       "      <td>9000.0000</td>\n",
       "      <td>9000.0000</td>\n",
       "      <td>45037.514</td>\n",
       "      <td>45037.514</td>\n",
       "      <td>-154.74294</td>\n",
       "      <td>5120.0</td>\n",
       "      <td>5120.0</td>\n",
       "      <td>0.000000</td>\n",
       "    </tr>\n",
       "    <tr>\n",
       "      <th>2</th>\n",
       "      <td>100.0</td>\n",
       "      <td>43.179437</td>\n",
       "      <td>12289.9920</td>\n",
       "      <td>12289.9920</td>\n",
       "      <td>160892.050</td>\n",
       "      <td>160892.050</td>\n",
       "      <td>-155.47246</td>\n",
       "      <td>5120.0</td>\n",
       "      <td>5120.0</td>\n",
       "      <td>9.610055</td>\n",
       "    </tr>\n",
       "    <tr>\n",
       "      <th>3</th>\n",
       "      <td>200.0</td>\n",
       "      <td>86.381652</td>\n",
       "      <td>10436.4180</td>\n",
       "      <td>10436.4180</td>\n",
       "      <td>83149.081</td>\n",
       "      <td>83149.081</td>\n",
       "      <td>-155.58601</td>\n",
       "      <td>5120.0</td>\n",
       "      <td>5120.0</td>\n",
       "      <td>20.201032</td>\n",
       "    </tr>\n",
       "    <tr>\n",
       "      <th>4</th>\n",
       "      <td>300.0</td>\n",
       "      <td>130.148240</td>\n",
       "      <td>9040.9555</td>\n",
       "      <td>9040.9555</td>\n",
       "      <td>69820.276</td>\n",
       "      <td>69820.276</td>\n",
       "      <td>-155.66487</td>\n",
       "      <td>5120.0</td>\n",
       "      <td>5120.0</td>\n",
       "      <td>30.030614</td>\n",
       "    </tr>\n",
       "    <tr>\n",
       "      <th>5</th>\n",
       "      <td>400.0</td>\n",
       "      <td>172.137640</td>\n",
       "      <td>8724.6809</td>\n",
       "      <td>8724.6809</td>\n",
       "      <td>66619.214</td>\n",
       "      <td>66619.214</td>\n",
       "      <td>-155.74949</td>\n",
       "      <td>5120.0</td>\n",
       "      <td>5120.0</td>\n",
       "      <td>37.342991</td>\n",
       "    </tr>\n",
       "  </tbody>\n",
       "</table>\n",
       "</div>"
      ],
      "text/plain": [
       "    Step         CPU        Temp   f_TempAve       Press  f_PressAve  \\\n",
       "0    0.0    0.000000   9000.0000   9000.0000   45037.514   45037.514   \n",
       "2  100.0   43.179437  12289.9920  12289.9920  160892.050  160892.050   \n",
       "3  200.0   86.381652  10436.4180  10436.4180   83149.081   83149.081   \n",
       "4  300.0  130.148240   9040.9555   9040.9555   69820.276   69820.276   \n",
       "5  400.0  172.137640   8724.6809   8724.6809   66619.214   66619.214   \n",
       "\n",
       "   f_PEAve_Atom  Volume  f_vAve   c_MSD[4]  \n",
       "0    -154.74294  5120.0  5120.0   0.000000  \n",
       "2    -155.47246  5120.0  5120.0   9.610055  \n",
       "3    -155.58601  5120.0  5120.0  20.201032  \n",
       "4    -155.66487  5120.0  5120.0  30.030614  \n",
       "5    -155.74949  5120.0  5120.0  37.342991  "
      ]
     },
     "execution_count": 32,
     "metadata": {},
     "output_type": "execute_result"
    }
   ],
   "source": [
    "rundir = 'lammps_runs/run_nvt_test'\n",
    "thermo = read_lammps_log(f'{rundir}/log_nvt_C.dat')\n",
    "thermo.head()  # a Pandas dataframe"
   ]
  },
  {
   "cell_type": "code",
   "execution_count": 9,
   "metadata": {},
   "outputs": [
    {
     "data": {
      "text/plain": [
       "[Text(0.5, 0, 'Timestep (fs)'), Text(0, 0.5, 'Temperature (K)')]"
      ]
     },
     "execution_count": 9,
     "metadata": {},
     "output_type": "execute_result"
    },
    {
     "data": {
      "image/png": "[encoded data removed]",
      "text/plain": [
       "<Figure size 640x480 with 1 Axes>"
      ]
     },
     "metadata": {},
     "output_type": "display_data"
    }
   ],
   "source": [
    "fig, axs = plt.subplots()\n",
    "\n",
    "axs.plot(thermo['Step'], thermo['f_TempAve'])\n",
    "axs.set(xlabel='Timestep (fs)', ylabel='Temperature (K)')"
   ]
  },
  {
   "cell_type": "markdown",
   "metadata": {},
   "source": [
    "Visualisation using [Ovito](https://www.ovito.org/)\n",
    "<img src=\"images/carbon_liquid.png\" style=\"width:400px;height:400px;\"> \n",
    "<img src=\"images/carbon_quench.png\" style=\"width:400px;height:400px;\"> "
   ]
  },
  {
   "cell_type": "markdown",
   "metadata": {},
   "source": [
    "# Structure analysis"
   ]
  },
  {
   "cell_type": "code",
   "execution_count": 33,
   "metadata": {},
   "outputs": [],
   "source": [
    "from quippy.descriptors import Descriptor\n",
    "import os\n",
    "from os.path import join\n",
    "from ase.io import read, write\n",
    "plt.style.use('./share/plot.mplstyle')"
   ]
  },
  {
   "cell_type": "code",
   "execution_count": 34,
   "metadata": {},
   "outputs": [
    {
     "data": {
      "text/plain": [
       "Atoms(symbols='C512', pbc=True, cell=[17.23547752, 17.23547752, 17.23547752])"
      ]
     },
     "execution_count": 34,
     "metadata": {},
     "output_type": "execute_result"
    }
   ],
   "source": [
    "# read the structures\n",
    "traj_dir = f'./{rundir}/NVT/'\n",
    "atoms = [read(join(traj_dir, i)) for i in os.listdir(traj_dir)]\n",
    "for i in range(len(atoms)):\n",
    "    atoms[i].set_atomic_numbers(6*np.ones(len(atoms[i])))\n",
    "atoms[1]"
   ]
  },
  {
   "cell_type": "markdown",
   "metadata": {},
   "source": [
    "## RDF analysis"
   ]
  },
  {
   "cell_type": "code",
   "execution_count": 35,
   "metadata": {},
   "outputs": [],
   "source": [
    "from ase.geometry.analysis import Analysis"
   ]
  },
  {
   "cell_type": "code",
   "execution_count": 36,
   "metadata": {},
   "outputs": [],
   "source": [
    "geo_analysis_start = Analysis(atoms[5])\n",
    "geo_analysis_end= Analysis(atoms[-1])\n",
    "\n",
    "rdf_start = geo_analysis_start.get_rdf(rmax=4, nbins=50, return_dists=True)[0]\n",
    "rdf_end = geo_analysis_end.get_rdf(rmax=4, nbins=50, return_dists=True)[0]"
   ]
  },
  {
   "cell_type": "code",
   "execution_count": 37,
   "metadata": {},
   "outputs": [
    {
     "data": {
      "text/plain": [
       "<matplotlib.legend.Legend at 0x7f33552c01f0>"
      ]
     },
     "execution_count": 37,
     "metadata": {},
     "output_type": "execute_result"
    },
    {
     "data": {
      "image/png": "[encoded data removed]",
      "text/plain": [
       "<Figure size 1200x400 with 2 Axes>"
      ]
     },
     "metadata": {},
     "output_type": "display_data"
    }
   ],
   "source": [
    "fig, axs = plt.subplots(1, 2, figsize=(12,4))\n",
    "axs[0].plot(rdf_start[1], rdf_start[0], label='liquid')\n",
    "axs[1].plot(rdf_end[1], rdf_end[0], label='amorphous')\n",
    "\n",
    "axs[0].set(xlabel='Distance (Å)', ylabel='g(r)', ylim=(-1, 5))\n",
    "axs[1].set(xlabel='Distance (Å)', ylim=(-1, 5))\n",
    "\n",
    "axs[0].legend(frameon=False, loc='upper right')\n",
    "axs[1].legend(frameon=False, loc='upper right')"
   ]
  }
 ],
 "metadata": {
  "kernelspec": {
   "display_name": "Python 3 (ipykernel)",
   "language": "python",
   "name": "python3"
  },
  "language_info": {
   "codemirror_mode": {
    "name": "ipython",
    "version": 3
   },
   "file_extension": ".py",
   "mimetype": "text/x-python",
   "name": "python",
   "nbconvert_exporter": "python",
   "pygments_lexer": "ipython3",
   "version": "3.8.15"
  },
  "orig_nbformat": 4
 },
 "nbformat": 4,
 "nbformat_minor": 2
}
